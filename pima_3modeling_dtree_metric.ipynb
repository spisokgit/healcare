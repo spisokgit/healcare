{
 "cells": [
  {
   "cell_type": "markdown",
   "metadata": {},
   "source": [
    "### 데이터 로딩 및 라이브러리 import"
   ]
  },
  {
   "cell_type": "code",
   "execution_count": 1,
   "metadata": {},
   "outputs": [
    {
     "data": {
      "text/html": [
       "<div>\n",
       "<style scoped>\n",
       "    .dataframe tbody tr th:only-of-type {\n",
       "        vertical-align: middle;\n",
       "    }\n",
       "\n",
       "    .dataframe tbody tr th {\n",
       "        vertical-align: top;\n",
       "    }\n",
       "\n",
       "    .dataframe thead th {\n",
       "        text-align: right;\n",
       "    }\n",
       "</style>\n",
       "<table border=\"1\" class=\"dataframe\">\n",
       "  <thead>\n",
       "    <tr style=\"text-align: right;\">\n",
       "      <th></th>\n",
       "      <th>Pregnancies</th>\n",
       "      <th>Glucose</th>\n",
       "      <th>BloodPressure</th>\n",
       "      <th>SkinThickness</th>\n",
       "      <th>Insulin</th>\n",
       "      <th>BMI</th>\n",
       "      <th>DiabetesPedigreeFunction</th>\n",
       "      <th>Age</th>\n",
       "      <th>Outcome</th>\n",
       "    </tr>\n",
       "  </thead>\n",
       "  <tbody>\n",
       "    <tr>\n",
       "      <th>0</th>\n",
       "      <td>6</td>\n",
       "      <td>148</td>\n",
       "      <td>72</td>\n",
       "      <td>35</td>\n",
       "      <td>0</td>\n",
       "      <td>33.6</td>\n",
       "      <td>0.627</td>\n",
       "      <td>50</td>\n",
       "      <td>1</td>\n",
       "    </tr>\n",
       "    <tr>\n",
       "      <th>1</th>\n",
       "      <td>1</td>\n",
       "      <td>85</td>\n",
       "      <td>66</td>\n",
       "      <td>29</td>\n",
       "      <td>0</td>\n",
       "      <td>26.6</td>\n",
       "      <td>0.351</td>\n",
       "      <td>31</td>\n",
       "      <td>0</td>\n",
       "    </tr>\n",
       "    <tr>\n",
       "      <th>2</th>\n",
       "      <td>8</td>\n",
       "      <td>183</td>\n",
       "      <td>64</td>\n",
       "      <td>0</td>\n",
       "      <td>0</td>\n",
       "      <td>23.3</td>\n",
       "      <td>0.672</td>\n",
       "      <td>32</td>\n",
       "      <td>1</td>\n",
       "    </tr>\n",
       "  </tbody>\n",
       "</table>\n",
       "</div>"
      ],
      "text/plain": [
       "   Pregnancies  Glucose  BloodPressure  SkinThickness  Insulin   BMI  \\\n",
       "0            6      148             72             35        0  33.6   \n",
       "1            1       85             66             29        0  26.6   \n",
       "2            8      183             64              0        0  23.3   \n",
       "\n",
       "   DiabetesPedigreeFunction  Age  Outcome  \n",
       "0                     0.627   50        1  \n",
       "1                     0.351   31        0  \n",
       "2                     0.672   32        1  "
      ]
     },
     "execution_count": 1,
     "metadata": {},
     "output_type": "execute_result"
    }
   ],
   "source": [
    "import numpy as np\n",
    "import pandas as pd\n",
    "import matplotlib.pyplot as plt\n",
    "%matplotlib inline\n",
    "\n",
    "from IPython.display import Image  # 주피터 노트북에 이미지 삽입\n",
    "import seaborn as sns\n",
    "import matplotlib.ticker as ticker # plt 축의 tik(눈금, 틱) \n",
    "\n",
    "from sklearn.model_selection import train_test_split\n",
    "from sklearn.metrics import accuracy_score, precision_score, recall_score, roc_auc_score\n",
    "from sklearn.metrics import f1_score, confusion_matrix, precision_recall_curve, roc_curve\n",
    "from sklearn.preprocessing import StandardScaler\n",
    "from sklearn.linear_model import LogisticRegression\n",
    "\n",
    "df = pd.read_csv('Data/diabetes.csv')\n",
    "df.head(3)"
   ]
  },
  {
   "cell_type": "markdown",
   "metadata": {},
   "source": [
    "* Pregnancies : 임신횟수  \n",
    "* Glucose : 경구 포도당 내성검사 2시간 혈장 포도당 농도 (140미만 정상, 140-199 내당능장애, 200이상 당뇨병)\n",
    "* BloodPressure : 이완기 혈압 (mmHg)\n",
    "* SkinThickness : 팔 삼두근 뒤쪽의 피하지방 측정값 (mm)\n",
    "* Insulin : 2시간 혈청 인슐린(mu U/mL)\n",
    "* BMI : 체질량지수(체중(kg) / 키(cm)^2)\n",
    "* DiabetesPedigreeFunction : 당뇨 직계 가족력\n",
    "* Age : 나이\n",
    "* Outcome : 5년이내 당뇨병 발병여부 (0 또는 1)    "
   ]
  },
  {
   "cell_type": "markdown",
   "metadata": {},
   "source": [
    "### 머신러닝 완벽 가이드 동영상 캡쳐 자료 (권철민 저)\n",
    "<img src=\"img/ml_process.png\" width=\"800\" height=\"600\">"
   ]
  },
  {
   "cell_type": "markdown",
   "metadata": {},
   "source": [
    "### 데이터 전처리 \n",
    "* pima_1preprocessing참조\n",
    "* 0값 대체, 통계상은 이상치는 pima indians에게 발생할 수 있어 그대로 두었음\n",
    "    + logistic regression 이진분류 모델이기 때문에 \n",
    "    + 다중회귀에서 중요한 정규성, 독립성(다중공선성), 등분산성을 특별히 고려하지 않아도 될 것으로 판단\n",
    "    + 하지만 입력데이터는 scalier통해 입력, target class 이항분포 확인(범주형일경우 encoding(레이블,OHe))"
   ]
  },
  {
   "cell_type": "code",
   "execution_count": 5,
   "metadata": {},
   "outputs": [
    {
     "data": {
      "text/plain": [
       "<matplotlib.axes._subplots.AxesSubplot at 0x1d1e0087fa0>"
      ]
     },
     "execution_count": 5,
     "metadata": {},
     "output_type": "execute_result"
    },
    {
     "data": {
      "text/plain": [
       "<Figure size 288x288 with 0 Axes>"
      ]
     },
     "metadata": {},
     "output_type": "display_data"
    },
    {
     "data": {
      "image/png": "[encoded data removed]",
      "text/plain": [
       "<Figure size 720x360 with 1 Axes>"
      ]
     },
     "metadata": {
      "needs_background": "light"
     },
     "output_type": "display_data"
    }
   ],
   "source": [
    "# 0값의 분포\n",
    "z=(df == 0).sum(axis=0)\n",
    "z=pd.DataFrame(z)\n",
    "# print(z.head(10))\n",
    "z.columns=['Zeros Count']\n",
    "# print(z.head(10))\n",
    "z.drop('Outcome',inplace=True)\n",
    "plt.figure(figsize=(4,4))\n",
    "z.plot(kind='bar',stacked=True, figsize=(10,5),grid=True)"
   ]
  },
  {
   "cell_type": "code",
   "execution_count": 6,
   "metadata": {},
   "outputs": [],
   "source": [
    "#0 제거 후 nan 으로 변환 # np.nan의 type : float\n",
    "col=['Glucose', 'BloodPressure','SkinThickness','Insulin','BMI' ]\n",
    "for i in col:\n",
    "    df[i].replace(0, np.nan, inplace= True)"
   ]
  },
  {
   "cell_type": "code",
   "execution_count": 7,
   "metadata": {},
   "outputs": [],
   "source": [
    "# median 중앙값 찾기\n",
    "def median_target(var):   \n",
    "    temp = df[df[var].notnull()]\n",
    "    temp = temp[[var, 'Outcome']].groupby(['Outcome'])[[var]].median().reset_index()\n",
    "    return temp\n",
    "# o값 대체 NaN 채워넣기 \n",
    "df.loc[(df['Outcome'] == 0 ) & (df['Glucose'].isnull()), 'Glucose'] = median_target('Glucose')[ median_target('Glucose')['Outcome']==0]['Glucose'].values[0]\n",
    "df.loc[(df['Outcome'] == 1 ) & (df['Glucose'].isnull()), 'Glucose'] = median_target('Glucose')[ median_target('Glucose')['Outcome']==1]['Glucose'].values[0]\n",
    "df.loc[(df['Outcome'] == 0 ) & (df['BloodPressure'].isnull()), 'BloodPressure'] = median_target('BloodPressure')[ median_target('BloodPressure')['Outcome']==0]['BloodPressure'].values[0]\n",
    "df.loc[(df['Outcome'] == 1 ) & (df['BloodPressure'].isnull()), 'BloodPressure'] = median_target('BloodPressure')[ median_target('BloodPressure')['Outcome']==1]['BloodPressure'].values[0]\n",
    "df.loc[(df['Outcome'] == 0 ) & (df['SkinThickness'].isnull()), 'SkinThickness'] = median_target('SkinThickness')[ median_target('SkinThickness')['Outcome']==0]['SkinThickness'].values[0]\n",
    "df.loc[(df['Outcome'] == 1 ) & (df['SkinThickness'].isnull()), 'SkinThickness'] = median_target('SkinThickness')[ median_target('SkinThickness')['Outcome']==1]['SkinThickness'].values[0]\n",
    "df.loc[(df['Outcome'] == 0 ) & (df['Insulin'].isnull()), 'Insulin'] =  median_target('Insulin')[ median_target('Insulin')['Outcome']==0]['Insulin'].values[0]\n",
    "df.loc[(df['Outcome'] == 1 ) & (df['Insulin'].isnull()), 'Insulin'] = median_target('Insulin')[ median_target('Insulin')['Outcome']==1]['Insulin'].values[0]\n",
    "df.loc[(df['Outcome'] == 0 ) & (df['BMI'].isnull()), 'BMI'] = median_target('BMI')[ median_target('BMI')['Outcome']==0]['BMI'].values[0]\n",
    "df.loc[(df['Outcome'] == 1 ) & (df['BMI'].isnull()), 'BMI'] = median_target('BMI')[ median_target('BMI')['Outcome']==1]['BMI'].values[0]"
   ]
  },
  {
   "cell_type": "code",
   "execution_count": 8,
   "metadata": {},
   "outputs": [
    {
     "data": {
      "text/plain": [
       "Pregnancies                 0\n",
       "Glucose                     0\n",
       "BloodPressure               0\n",
       "SkinThickness               0\n",
       "Insulin                     0\n",
       "BMI                         0\n",
       "DiabetesPedigreeFunction    0\n",
       "Age                         0\n",
       "Outcome                     0\n",
       "dtype: int64"
      ]
     },
     "execution_count": 8,
     "metadata": {},
     "output_type": "execute_result"
    }
   ],
   "source": [
    "df.isnull().sum()"
   ]
  },
  {
   "cell_type": "code",
   "execution_count": null,
   "metadata": {},
   "outputs": [],
   "source": [
    "## feature 추출, 선택 및 가공\n",
    "* 통계기반 statsmodels 통해 feature 추출\n",
    "    + 다중회귀에서 1. 전체모형, 2. 개별 독립변수에 대한 판단 3. 모형의 타당성 검증으로 \n",
    "    + logit(logistic regression)에서는 개별 독립변수의 유의성 확인\n",
    "* 엔트로피 기반  entropy : 결정트리사용하는 모든 분류기(classifier) 모델 \n",
    "    + 독립변수 <-> 종속변수간 엔트로피 직접 계산(mushroom)\n",
    "    + 분류에서 훈련된 모델에 대해 feature_importances_라는 parameter통해 feature별 모델에 대한 영향력 확인가능  "
   ]
  },
  {
   "cell_type": "markdown",
   "metadata": {},
   "source": [
    "### estimator \n",
    "#### 회귀\n",
    "+ 단순회귀\n",
    "+ 다중회귀\n",
    "#### 분류\n",
    "+ Logistic regression : 독립변수와 종속변수간 선형관계성 기반\n",
    "+ 나이브베이즈 : 베이즈통계기반\n",
    "+ SVM(Support Vetcor Machine) : 개별클래스간 최대 분류 마진을 효과적으로 찾아줌\n",
    "+ KNN: 근접거리를 기준으로 최소근접 알고리즘\n",
    "+ 결정트리(Decision Tree) 기반"
   ]
  },
  {
   "cell_type": "code",
   "execution_count": null,
   "metadata": {},
   "outputs": [],
   "source": [
    "### 결정트리 사용하는 분류기(classifier) 모델 \n",
    "- 결정트리 : CART(분류와 회귀에 동시 사용 가능)\n",
    "- 앙상블(Ensemble : 다수 weak learner) : 대부분 CART(분류와 회귀에 동시 사용 가능)\n",
    "    + 보팅방식\n",
    "    + 배깅방식(랜덤포레스트 : 부트스트랩 도입)\n",
    "    + 부스팅방식\n",
    "        - AdaBoost : 가중치 도입\n",
    "        - GBM : 가중치에 경사하강법 도입(오차함수, 가중치 최적화):순차적 실행으로 시간이 많이 소요, 과적합규제(Regularization)\n",
    "        - xgboost : GBM 단점 개선  \n",
    "          + 병렬 cpu 속도개선\n",
    "          + 자체 과적합 규제기능, 결손값 자체처리, 자동 교차검증(CV), Tree Pruning    \n",
    "        - LightGBM\n",
    "- 스태킹(Stacking) : 앙상블의 앙상블"
   ]
  },
  {
   "cell_type": "code",
   "execution_count": null,
   "metadata": {},
   "outputs": [],
   "source": []
  },
  {
   "cell_type": "code",
   "execution_count": null,
   "metadata": {},
   "outputs": [],
   "source": [
    "### 데이터 X, y값 설정 ->  스케일링 적용 -> 훈련, 테스트 데이터로 분리  -> 로지스틱 회귀로 학습  -> 예측\n",
    "* 로지스틱 회귀는 회귀기반 estimator이므로 target class 불균형시 영향을 많이 받음(straty=True) (cf) 회귀예측에서는 target class 정규분포 형성)\n",
    "* 이진분류에서는 정밀도, 재현율, F1 score, AUC score가 주로 성능평가 지표로 사용\n",
    "    + 엔트로피를 줄이는 확률? predict_proba\n",
    "    + cf) 회귀예측에서는 성능평가지표 : 오차(잔차)줄이는 방향 :  MAE, MSE, RMSE, R2score(분산기반)\n",
    "    + cf) 회귀예측에서의 오차손실(loss,cost)함수 : MSE, RMSE\n",
    "* 분류 결정 임계값을 조정해 정밀도와 재현율의 수치를 조정할 수 있음\n",
    "* F1 score는 정밀도와 재현율이 어느 한쪽에 치우치지 않을 때 좋은 값을 가짐\n",
    "* AUC score는 ROC 곡선 밑의 면적을 구한 것으로 1에 가까울 수록 좋은 수치\n",
    "* 이진분류기(estimator)를 분류나 회귀에서 사용할 경우 과적합(overfitting)문제가 발생할 수 있음"
   ]
  },
  {
   "cell_type": "markdown",
   "metadata": {},
   "source": [
    "#### 데이터 X,y값 설정\n",
    "* X, y값 분리\n",
    "* scaling 적용\n",
    "* 데이터 분리시 target class stratify=y 적용"
   ]
  },
  {
   "cell_type": "markdown",
   "metadata": {},
   "source": [
    "#### 데이터 분리시 kfold, StratifiedKFold 할 것인가 결정\n",
    "* kfold  : feature(X값) 데이터를 섞어서 사용\n",
    "* StratifiedKFold : target(y==class==label)값의 분포가 불균일할 때 \n",
    "* train_test_split(X, y, test_size = 0.2, random_state = 156, stratify=y)\n",
    "    + stratify=y ===> StratifiedKFold 할 것인가 결정한 것임"
   ]
  },
  {
   "cell_type": "code",
   "execution_count": 11,
   "metadata": {},
   "outputs": [],
   "source": [
    "# 데이터 X, y값 분리\n",
    "X = df.iloc[:, :-1]\n",
    "y = df.iloc[:, -1]\n",
    "\n",
    "# StandardScaler 클래스를 이용해 피처 데이터 세트에 일괄적으로 스케일링 적용\n",
    "scaler = StandardScaler( )\n",
    "X_scaled = scaler.fit_transform(X)\n",
    "\n",
    "# 데이터 훈련, 검증데이터로 분리  # target class의 불균형 제거 stratify=y\n",
    "X_train, X_test, y_train, y_test = train_test_split(X_scaled, y, test_size = 0.2, random_state = 156, stratify=y)"
   ]
  },
  {
   "cell_type": "markdown",
   "metadata": {},
   "source": [
    "#### estimator (모델) 선정 훈련, 필요시 저장"
   ]
  },
  {
   "cell_type": "code",
   "execution_count": 12,
   "metadata": {},
   "outputs": [
    {
     "data": {
      "text/plain": [
       "LogisticRegression()"
      ]
     },
     "execution_count": 12,
     "metadata": {},
     "output_type": "execute_result"
    }
   ],
   "source": [
    "# 로지스틱 회귀로 학습, 모델링 완료\n",
    "# 모델선택 : 이진분류기로 LogisticRegression()\n",
    "lr_clf = LogisticRegression()\n",
    "lr_clf.fit(X_train , y_train)\n",
    "\n",
    "# 필요시 모델 저장\n",
    "# pickle.dump(lr_clf, open('static/modeling/pima.sav', 'wb'))"
   ]
  },
  {
   "cell_type": "markdown",
   "metadata": {},
   "source": [
    "#### 성능평가지표 조정 필요\n",
    "* predict()함수는 predict_proba 함수 토대로 만들었음"
   ]
  },
  {
   "cell_type": "code",
   "execution_count": 13,
   "metadata": {
    "scrolled": true
   },
   "outputs": [
    {
     "name": "stdout",
     "output_type": "stream",
     "text": [
      "pred_proba()결과 Shape : (154, 2)\n",
      "pred_proba array에서 앞 3개만 샘플로 추출 \n",
      ": [[0.96714017 0.03285983]\n",
      " [0.81541405 0.18458595]\n",
      " [0.91944083 0.08055917]]\n",
      "두개의 class 중에서 더 큰 확률을 클래스 값으로 예측 \n",
      " [[0.96714017 0.03285983 0.        ]\n",
      " [0.81541405 0.18458595 0.        ]\n",
      " [0.91944083 0.08055917 0.        ]]\n"
     ]
    }
   ],
   "source": [
    "pred_proba = lr_clf.predict_proba(X_test) # 예측 확률 array에 대한 negative, positive 확률 반환\n",
    "pred  = lr_clf.predict(X_test)            # positive 확률을 선택해서 임계값보다 높으면 1, 낮으면 0을 반환\n",
    "print('pred_proba()결과 Shape : {0}'.format(pred_proba.shape))\n",
    "print('pred_proba array에서 앞 3개만 샘플로 추출 \\n:', pred_proba[:3])\n",
    "\n",
    "# 예측 확률 array 와 예측 결과값 array 를 concatenate 하여 예측 확률과 결과값을 한눈에 확인\n",
    "pred_proba_result = np.concatenate([pred_proba , pred.reshape(-1,1)],axis=1)\n",
    "print('두개의 class 중에서 더 큰 확률을 클래스 값으로 예측 \\n',pred_proba_result[:3])"
   ]
  },
  {
   "cell_type": "markdown",
   "metadata": {},
   "source": [
    "<img src=\"img/threshold.png\" width=\"600\" height=\"400\">"
   ]
  },
  {
   "cell_type": "markdown",
   "metadata": {},
   "source": [
    "#### 성능평가지표 종합함수"
   ]
  },
  {
   "cell_type": "code",
   "execution_count": 17,
   "metadata": {},
   "outputs": [],
   "source": [
    "def get_clf_eval(y_test=None, pred=None, pred_proba=None): # 권철민 저 책자에 누락 pred_proba\n",
    "    metric_lst=[]\n",
    "    confusion = confusion_matrix( y_test, pred)\n",
    "    metric_lst.append(confusion)\n",
    "    accuracy = accuracy_score(y_test , pred)\n",
    "    metric_lst.append(accuracy)\n",
    "    precision = precision_score(y_test , pred)\n",
    "    metric_lst.append(precision)\n",
    "    recall = recall_score(y_test , pred)\n",
    "    metric_lst.append(recall)\n",
    "    f1 = f1_score(y_test,pred)\n",
    "    metric_lst.append(f1)\n",
    "    # ROC-AUC 추가 \n",
    "    roc_auc = roc_auc_score(y_test, pred_proba) # 권철민 저 책자에 오기 pred --> pred_proba\n",
    "    metric_lst.append(roc_auc)\n",
    "    \n",
    "    print('오차 행렬')\n",
    "    print(confusion)\n",
    "    # ROC-AUC print 추가\n",
    "    print('정확도: {0:.4f}, 정밀도: {1:.4f}, 재현율: {2:.4f},\\\n",
    "    F1: {3:.4f}, AUC:{4:.4f}'.format(accuracy, precision, recall, f1, roc_auc))\n",
    "    # print(metric_lst)\n",
    "    return metric_lst\n",
    "\n",
    "# get_clf_eval(y_test , pred, pred_proba )"
   ]
  },
  {
   "cell_type": "markdown",
   "metadata": {},
   "source": [
    "#### 데이터 Cross Validation ==>  StratifiedKFold 적용 참고"
   ]
  },
  {
   "cell_type": "code",
   "execution_count": 18,
   "metadata": {},
   "outputs": [],
   "source": [
    "# from sklearn.model_selection import StratifiedKFold\n",
    "# skfold = StratifiedKFold(n_splits=3)\n",
    "\n",
    "# # StratifiedKFold의 split( ) 호출시 반드시 레이블 데이터 셋도 추가 입력 필요  \n",
    "# for train_index, test_index  in skfold.split(X_scaled, y):\n",
    "#     # split( )으로 반환된 인덱스를 이용하여 학습용, 검증용 테스트 데이터 추출\n",
    "#     X_train, X_test = X_scaled[train_index],X_scaled[test_index]\n",
    "#     y_train, y_test = y[train_index], y[test_index]\n",
    "    \n",
    "#     # 학습 및 예측 \n",
    "#     lr_clf.fit(X_train , y_train)\n",
    "#     pred = lr_clf.predict(X_test)\n",
    "#     pred_proba = lr_clf.predict_proba(X_test)[:,1]\n",
    "    \n",
    "#     get_clf_eval(y_test , pred, pred_proba )\n",
    "#     print('#'*30)  "
   ]
  },
  {
   "cell_type": "markdown",
   "metadata": {},
   "source": [
    "#### default 임계값(throehold=0.5) 조정해서 분류 임계값을 변경하면서 평가 metrics 측정, 최적 임계값 선택"
   ]
  },
  {
   "cell_type": "code",
   "execution_count": 21,
   "metadata": {},
   "outputs": [
    {
     "name": "stdout",
     "output_type": "stream",
     "text": [
      "임곗값: 0.3\n",
      "오차 행렬\n",
      "[[74 26]\n",
      " [ 7 47]]\n",
      "정확도: 0.7857, 정밀도: 0.6438, 재현율: 0.8704,    F1: 0.7402, AUC:0.8893\n",
      "임곗값: 0.33\n",
      "오차 행렬\n",
      "[[81 19]\n",
      " [ 8 46]]\n",
      "정확도: 0.8247, 정밀도: 0.7077, 재현율: 0.8519,    F1: 0.7731, AUC:0.8893\n",
      "임곗값: 0.36\n",
      "오차 행렬\n",
      "[[83 17]\n",
      " [ 9 45]]\n",
      "정확도: 0.8312, 정밀도: 0.7258, 재현율: 0.8333,    F1: 0.7759, AUC:0.8893\n",
      "임곗값: 0.39\n",
      "오차 행렬\n",
      "[[85 15]\n",
      " [11 43]]\n",
      "정확도: 0.8312, 정밀도: 0.7414, 재현율: 0.7963,    F1: 0.7679, AUC:0.8893\n",
      "임곗값: 0.42\n",
      "오차 행렬\n",
      "[[85 15]\n",
      " [13 41]]\n",
      "정확도: 0.8182, 정밀도: 0.7321, 재현율: 0.7593,    F1: 0.7455, AUC:0.8893\n",
      "임곗값: 0.45\n",
      "오차 행렬\n",
      "[[86 14]\n",
      " [13 41]]\n",
      "정확도: 0.8247, 정밀도: 0.7455, 재현율: 0.7593,    F1: 0.7523, AUC:0.8893\n",
      "임곗값: 0.48\n",
      "오차 행렬\n",
      "[[88 12]\n",
      " [15 39]]\n",
      "정확도: 0.8247, 정밀도: 0.7647, 재현율: 0.7222,    F1: 0.7429, AUC:0.8893\n",
      "임곗값: 0.5\n",
      "오차 행렬\n",
      "[[90 10]\n",
      " [15 39]]\n",
      "정확도: 0.8377, 정밀도: 0.7959, 재현율: 0.7222,    F1: 0.7573, AUC:0.8893\n",
      "##############################\n",
      "custom_threshold : 0.36\n",
      "##############################\n",
      "오차 행렬\n",
      "[[83 17]\n",
      " [ 9 45]]\n",
      "정확도: 0.8312, 정밀도: 0.7258, 재현율: 0.8333,    F1: 0.7759, AUC:0.8893\n"
     ]
    },
    {
     "data": {
      "text/plain": [
       "[array([[83, 17],\n",
       "        [ 9, 45]], dtype=int64),\n",
       " 0.8311688311688312,\n",
       " 0.7258064516129032,\n",
       " 0.8333333333333334,\n",
       " 0.7758620689655172,\n",
       " 0.8892592592592593]"
      ]
     },
     "execution_count": 21,
     "metadata": {},
     "output_type": "execute_result"
    }
   ],
   "source": [
    "from sklearn.preprocessing import Binarizer\n",
    "\n",
    "def get_eval_by_threshold(y_test , pred_proba_c1, thresholds):\n",
    "    # thresholds 리스트 객체내의 값을 차례로 iteration하면서 Evaluation 수행.\n",
    "    metrics_dict={}\n",
    "    for custom_threshold in thresholds:\n",
    "        binarizer = Binarizer(threshold=custom_threshold).fit(pred_proba_c1) \n",
    "        custom_predict = binarizer.transform(pred_proba_c1) # predict 수행한 것\n",
    "        print('임곗값:',custom_threshold)\n",
    "        \n",
    "        metric_lst = get_clf_eval(y_test , custom_predict, pred_proba_c1)\n",
    "        metrics_dict[custom_threshold] = metric_lst\n",
    "\n",
    "    return metrics_dict\n",
    "                \n",
    "thresholds = [0.3 , 0.33 ,0.36,0.39, 0.42 , 0.45 ,0.48, 0.50]\n",
    "pred_proba = lr_clf.predict_proba(X_test)\n",
    "metrics_dict = get_eval_by_threshold(y_test, pred_proba[:,1].reshape(-1,1), thresholds )\n",
    "# print(metrics_dict)\n",
    "\n",
    "# 최적의 임계값 선택\n",
    "f1_lst=[]\n",
    "for _, metric in metrics_dict.items():\n",
    "    f1_lst.append(metric[4])  \n",
    "# print(f1_lst)\n",
    "custom_threshold = thresholds[f1_lst.index(max(f1_lst))]\n",
    "print('#'*30)\n",
    "print(f'custom_threshold : {custom_threshold}')\n",
    "print('#'*30)\n",
    "\n",
    "# 최적 임계값으로 설정한 Binarizer 생성 # 원래 default 임계값 0.5\n",
    "binarizer = Binarizer(threshold=custom_threshold)\n",
    "pred_custom_th = binarizer.fit_transform(pred_proba[:, 1].reshape(-1,1)) \n",
    "\n",
    "# \n",
    "get_clf_eval(y_test, pred_custom_th, pred_proba[:,1])\n"
   ]
  },
  {
   "cell_type": "code",
   "execution_count": null,
   "metadata": {},
   "outputs": [],
   "source": [
    "### 임계값 조정된 것 + StratifiedKFold 적용"
   ]
  },
  {
   "cell_type": "code",
   "execution_count": null,
   "metadata": {},
   "outputs": [],
   "source": [
    "# # 최적 임곗값 설정한 Binarizer 생성 # 원래 default 임계값 0.5\n",
    "# binarizer = Binarizer(threshold=pred_custom_th)\n",
    "\n",
    "# from sklearn.model_selection import StratifiedKFold\n",
    "# skfold = StratifiedKFold(n_splits=3)\n",
    "# for train_index, test_index  in skfold.split(X_scaled, y):\n",
    "#     X_train, X_test = X_scaled[train_index],X_scaled[test_index]\n",
    "#     y_train, y_test = y[train_index], y[test_index]\n",
    "\n",
    "#     lr_clf.fit(X_train , y_train)\n",
    "    \n",
    "#     # pred = lr_clf.predict(X_test)\n",
    "\n",
    "#     pred_proba = lr_clf.predict_proba(X_test)\n",
    "#     pred_th_048 = binarizer.fit_transform(pred_proba[:, 1].reshape(-1,1)) \n",
    "#     # 위에서 구한 lr_clf의 predict_proba() 1에 해당하는 컬럼값을 Binarizer변환. => predict 수행을 변경한 값\n",
    "    \n",
    "#     get_clf_eval(y_test, pred_th_048, pred_proba[:,1])\n",
    "#     # get_clf_eval(y_test , pred, pred_proba )\n",
    "#     print('#'*30)  "
   ]
  },
  {
   "cell_type": "markdown",
   "metadata": {},
   "source": [
    "### 정밀도 - 재현율 trade off 그리기"
   ]
  },
  {
   "cell_type": "markdown",
   "metadata": {},
   "source": [
    "##### 한글깨짐 관련 (리눅스, 윈도우)\n",
    "https://github.com/spisokgit/visual_ncia/blob/master/Day1_%ED%95%9C%EA%B8%80%EA%B9%A8%EC%A7%90.ipynb"
   ]
  },
  {
   "cell_type": "code",
   "execution_count": 22,
   "metadata": {},
   "outputs": [],
   "source": [
    "# 윈도우에서 설정해 주면 되는 부분\n",
    "import matplotlib as mpl\n",
    "import matplotlib.font_manager as fm\n",
    "font_name = mpl.font_manager.FontProperties(fname='C:/Windows/Fonts/malgun.ttf').get_name() # 폴더구분자 python / 임\n",
    "mpl.rc('font', family=font_name) # ahronbd.ttf"
   ]
  },
  {
   "cell_type": "code",
   "execution_count": 26,
   "metadata": {},
   "outputs": [],
   "source": [
    "def precision_recall_curve_plot(y_test=None, pred_proba_c1=None):\n",
    "    # threshold ndarray와 이 threshold에 따른 정밀도, 재현율 ndarray 추출. \n",
    "    precisions, recalls, thresholds = precision_recall_curve( y_test, pred_proba_c1)\n",
    "    \n",
    "    # X축을 threshold값으로, Y축은 정밀도, 재현율 값으로 각각 Plot 수행. 정밀도는 점선으로 표시\n",
    "    plt.figure(figsize=(8,6))\n",
    "    threshold_boundary = thresholds.shape[0]\n",
    "    plt.plot(thresholds, precisions[0:threshold_boundary], linestyle='--', label='precision')\n",
    "    plt.plot(thresholds, recalls[0:threshold_boundary],label='recall')\n",
    "    \n",
    "    # threshold 값 X 축의 Scale을 0.1 단위로 변경\n",
    "    start, end = plt.xlim()\n",
    "    plt.xticks(np.round(np.arange(start, end, 0.1),2))\n",
    "    \n",
    "    # x축, y축 label과 legend, 그리고 grid 설정\n",
    "    plt.xlabel('임계값(Threshold value)'); plt.ylabel('정밀도(Precision) 와 재현율(Recall) value')\n",
    "    plt.legend(); plt.grid()\n",
    "    plt.title(\"precison_recall trade off curve\")\n",
    "    # plt.savefig('static/img/precison_recall.png') # 저장시\n",
    "    plt.show()\n",
    "    "
   ]
  },
  {
   "cell_type": "code",
   "execution_count": 27,
   "metadata": {},
   "outputs": [
    {
     "data": {
      "image/png": "[encoded data removed]",
      "text/plain": [
       "<Figure size 576x432 with 1 Axes>"
      ]
     },
     "metadata": {
      "needs_background": "light"
     },
     "output_type": "display_data"
    }
   ],
   "source": [
    "precision_recall_curve_plot(y_test, lr_clf.predict_proba(X_test)[:, 1])"
   ]
  },
  {
   "cell_type": "markdown",
   "metadata": {},
   "source": [
    "#### ROC curve 그리기,  AUC 구하기"
   ]
  },
  {
   "cell_type": "code",
   "execution_count": 28,
   "metadata": {},
   "outputs": [
    {
     "data": {
      "image/png": "[encoded data removed]",
      "text/plain": [
       "<Figure size 432x288 with 1 Axes>"
      ]
     },
     "metadata": {
      "needs_background": "light"
     },
     "output_type": "display_data"
    }
   ],
   "source": [
    "from sklearn.metrics import roc_curve\n",
    "\n",
    "def roc_curve_plot(y_test , pred_proba_c1):\n",
    "    # 임곗값에 따른 FPR, TPR 값을 반환 받음. \n",
    "    fprs , tprs , thresholds = roc_curve(y_test ,pred_proba_c1)\n",
    "\n",
    "    # ROC Curve를 plot 곡선으로 그림. \n",
    "    plt.plot(fprs , tprs, label='ROC')\n",
    "    # 가운데 대각선 직선을 그림. \n",
    "    plt.plot([0, 1], [0, 1], 'k--', label='Random')\n",
    "    \n",
    "    # FPR X 축의 Scale을 0.1 단위로 변경, X,Y 축명 설정등   \n",
    "    start, end = plt.xlim()\n",
    "    plt.xticks(np.round(np.arange(start, end, 0.1),2))\n",
    "    plt.xlim(0,1); plt.ylim(0,1)\n",
    "    plt.xlabel('FPR( 1 - Sensitivity )'); plt.ylabel('TPR( Recall )')\n",
    "    plt.legend()\n",
    "    plt.title(\"ROC curve\")\n",
    "    # plt.savefig('static/img/roc.png') # 저장시\n",
    "    plt.show()\n",
    "    \n",
    "roc_curve_plot(y_test, lr_clf.predict_proba(X_test)[:, 1] )"
   ]
  },
  {
   "cell_type": "code",
   "execution_count": null,
   "metadata": {},
   "outputs": [],
   "source": []
  }
 ],
 "metadata": {
  "kernelspec": {
   "display_name": "Python 3",
   "language": "python",
   "name": "python3"
  },
  "language_info": {
   "codemirror_mode": {
    "name": "ipython",
    "version": 3
   },
   "file_extension": ".py",
   "mimetype": "text/x-python",
   "name": "python",
   "nbconvert_exporter": "python",
   "pygments_lexer": "ipython3",
   "version": "3.8.3"
  }
 },
 "nbformat": 4,
 "nbformat_minor": 4
}
