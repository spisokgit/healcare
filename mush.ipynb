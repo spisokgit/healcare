{
 "cells": [
  {
   "cell_type": "code",
   "execution_count": 1,
   "metadata": {},
   "outputs": [],
   "source": [
    "import pandas as pd\n",
    "import numpy as np"
   ]
  },
  {
   "cell_type": "code",
   "execution_count": null,
   "metadata": {},
   "outputs": [],
   "source": [
    "# data 살펴보기\n",
    "# agaricus-lepiota.data\n",
    "    # p,x,s,n,t,p,f,c,n,k,e,e,s,s,w,w,p,w,o,p,k,s,u\n",
    "    # e,x,s,y,t,a,f,c,b,k,e,c,s,s,w,w,p,w,o,p,n,n,g\n",
    "    # e,b,s,w,t,l,f,c,b,n,e,c,s,s,w,w,p,w,o,p,n,n,m\n",
    "    # p,x,y,w,t,p,f,c,n,n,e,e,s,s,w,w,p,w,o,p,k,s,u\n",
    "# agaricus-lepiota.names\n",
    "    # 7. Attribute Information: (classes: edible=e, poisonous=p)\n",
    "    #      1. cap-shape:                bell=b,conical=c,convex=x,flat=f,\n",
    "    #                                   knobbed=k,sunken=s\n",
    "    #      2. cap-surface:              fibrous=f,grooves=g,scaly=y,smooth=s\n",
    "    #      3. cap-color:                brown=n,buff=b,cinnamon=c,gray=g,green=r,\n",
    "    #                                   pink=p,purple=u,red=e,white=w,yellow=y\n",
    "    #      4. bruises?:                 bruises=t,no=f"
   ]
  },
  {
   "cell_type": "code",
   "execution_count": 2,
   "metadata": {},
   "outputs": [
    {
     "data": {
      "text/html": [
       "<div>\n",
       "<style scoped>\n",
       "    .dataframe tbody tr th:only-of-type {\n",
       "        vertical-align: middle;\n",
       "    }\n",
       "\n",
       "    .dataframe tbody tr th {\n",
       "        vertical-align: top;\n",
       "    }\n",
       "\n",
       "    .dataframe thead th {\n",
       "        text-align: right;\n",
       "    }\n",
       "</style>\n",
       "<table border=\"1\" class=\"dataframe\">\n",
       "  <thead>\n",
       "    <tr style=\"text-align: right;\">\n",
       "      <th></th>\n",
       "      <th>cap-shape</th>\n",
       "      <th>cap-surface</th>\n",
       "      <th>cap-color</th>\n",
       "      <th>bruises?</th>\n",
       "      <th>odor</th>\n",
       "      <th>gill-attachment</th>\n",
       "      <th>gill-spacing</th>\n",
       "      <th>gill-size</th>\n",
       "      <th>gill-color</th>\n",
       "      <th>stalk-shape</th>\n",
       "      <th>...</th>\n",
       "      <th>stalk-surface-below-ring</th>\n",
       "      <th>stalk-color-above-ring</th>\n",
       "      <th>stalk-color-below-ring</th>\n",
       "      <th>veil-type</th>\n",
       "      <th>veil-color</th>\n",
       "      <th>ring-number</th>\n",
       "      <th>ring-type</th>\n",
       "      <th>spore-print-color</th>\n",
       "      <th>population</th>\n",
       "      <th>habitat</th>\n",
       "    </tr>\n",
       "  </thead>\n",
       "  <tbody>\n",
       "    <tr>\n",
       "      <th>0</th>\n",
       "      <td>x</td>\n",
       "      <td>s</td>\n",
       "      <td>y</td>\n",
       "      <td>t</td>\n",
       "      <td>a</td>\n",
       "      <td>f</td>\n",
       "      <td>c</td>\n",
       "      <td>b</td>\n",
       "      <td>k</td>\n",
       "      <td>e</td>\n",
       "      <td>...</td>\n",
       "      <td>s</td>\n",
       "      <td>w</td>\n",
       "      <td>w</td>\n",
       "      <td>p</td>\n",
       "      <td>w</td>\n",
       "      <td>o</td>\n",
       "      <td>p</td>\n",
       "      <td>n</td>\n",
       "      <td>n</td>\n",
       "      <td>g</td>\n",
       "    </tr>\n",
       "    <tr>\n",
       "      <th>1</th>\n",
       "      <td>b</td>\n",
       "      <td>s</td>\n",
       "      <td>w</td>\n",
       "      <td>t</td>\n",
       "      <td>l</td>\n",
       "      <td>f</td>\n",
       "      <td>c</td>\n",
       "      <td>b</td>\n",
       "      <td>n</td>\n",
       "      <td>e</td>\n",
       "      <td>...</td>\n",
       "      <td>s</td>\n",
       "      <td>w</td>\n",
       "      <td>w</td>\n",
       "      <td>p</td>\n",
       "      <td>w</td>\n",
       "      <td>o</td>\n",
       "      <td>p</td>\n",
       "      <td>n</td>\n",
       "      <td>n</td>\n",
       "      <td>m</td>\n",
       "    </tr>\n",
       "    <tr>\n",
       "      <th>2</th>\n",
       "      <td>x</td>\n",
       "      <td>y</td>\n",
       "      <td>w</td>\n",
       "      <td>t</td>\n",
       "      <td>p</td>\n",
       "      <td>f</td>\n",
       "      <td>c</td>\n",
       "      <td>n</td>\n",
       "      <td>n</td>\n",
       "      <td>e</td>\n",
       "      <td>...</td>\n",
       "      <td>s</td>\n",
       "      <td>w</td>\n",
       "      <td>w</td>\n",
       "      <td>p</td>\n",
       "      <td>w</td>\n",
       "      <td>o</td>\n",
       "      <td>p</td>\n",
       "      <td>k</td>\n",
       "      <td>s</td>\n",
       "      <td>u</td>\n",
       "    </tr>\n",
       "    <tr>\n",
       "      <th>3</th>\n",
       "      <td>x</td>\n",
       "      <td>s</td>\n",
       "      <td>g</td>\n",
       "      <td>f</td>\n",
       "      <td>n</td>\n",
       "      <td>f</td>\n",
       "      <td>w</td>\n",
       "      <td>b</td>\n",
       "      <td>k</td>\n",
       "      <td>t</td>\n",
       "      <td>...</td>\n",
       "      <td>s</td>\n",
       "      <td>w</td>\n",
       "      <td>w</td>\n",
       "      <td>p</td>\n",
       "      <td>w</td>\n",
       "      <td>o</td>\n",
       "      <td>e</td>\n",
       "      <td>n</td>\n",
       "      <td>a</td>\n",
       "      <td>g</td>\n",
       "    </tr>\n",
       "    <tr>\n",
       "      <th>4</th>\n",
       "      <td>x</td>\n",
       "      <td>y</td>\n",
       "      <td>y</td>\n",
       "      <td>t</td>\n",
       "      <td>a</td>\n",
       "      <td>f</td>\n",
       "      <td>c</td>\n",
       "      <td>b</td>\n",
       "      <td>n</td>\n",
       "      <td>e</td>\n",
       "      <td>...</td>\n",
       "      <td>s</td>\n",
       "      <td>w</td>\n",
       "      <td>w</td>\n",
       "      <td>p</td>\n",
       "      <td>w</td>\n",
       "      <td>o</td>\n",
       "      <td>p</td>\n",
       "      <td>k</td>\n",
       "      <td>n</td>\n",
       "      <td>g</td>\n",
       "    </tr>\n",
       "  </tbody>\n",
       "</table>\n",
       "<p>5 rows × 22 columns</p>\n",
       "</div>"
      ],
      "text/plain": [
       "  cap-shape cap-surface cap-color bruises? odor gill-attachment gill-spacing  \\\n",
       "0         x           s         y        t    a               f            c   \n",
       "1         b           s         w        t    l               f            c   \n",
       "2         x           y         w        t    p               f            c   \n",
       "3         x           s         g        f    n               f            w   \n",
       "4         x           y         y        t    a               f            c   \n",
       "\n",
       "  gill-size gill-color stalk-shape  ... stalk-surface-below-ring  \\\n",
       "0         b          k           e  ...                        s   \n",
       "1         b          n           e  ...                        s   \n",
       "2         n          n           e  ...                        s   \n",
       "3         b          k           t  ...                        s   \n",
       "4         b          n           e  ...                        s   \n",
       "\n",
       "  stalk-color-above-ring stalk-color-below-ring veil-type veil-color  \\\n",
       "0                      w                      w         p          w   \n",
       "1                      w                      w         p          w   \n",
       "2                      w                      w         p          w   \n",
       "3                      w                      w         p          w   \n",
       "4                      w                      w         p          w   \n",
       "\n",
       "  ring-number ring-type spore-print-color population habitat  \n",
       "0           o         p                 n          n       g  \n",
       "1           o         p                 n          n       m  \n",
       "2           o         p                 k          s       u  \n",
       "3           o         e                 n          a       g  \n",
       "4           o         p                 k          n       g  \n",
       "\n",
       "[5 rows x 22 columns]"
      ]
     },
     "execution_count": 2,
     "metadata": {},
     "output_type": "execute_result"
    }
   ],
   "source": [
    "feature_names = [\"poisonous\", \"cap-shape\", \"cap-surface\", \"cap-color\", \"bruises?\", \"odor\", \"gill-attachment\", \"gill-spacing\", \"gill-size\", \"gill-color\", \"stalk-shape\", \"stalk-root\", \"stalk-surface-above-ring\", \"stalk-surface-below-ring\", \"stalk-color-above-ring\", \"stalk-color-below-ring\", \"veil-type\", \"veil-color\", \"ring-number\", \"ring-type\", \"spore-print-color\", \"population\", \"habitat\"]\n",
    "X = pd.read_csv(\"./agaricus-lepiota.data\", header=0, names=feature_names)\n",
    "y = X[\"poisonous\"]  # target\n",
    "X.drop([\"poisonous\"], axis=1, inplace=True) # target class 제외한 X feature\n",
    "X.head()"
   ]
  },
  {
   "cell_type": "code",
   "execution_count": 3,
   "metadata": {},
   "outputs": [
    {
     "name": "stdout",
     "output_type": "stream",
     "text": [
      "<class 'pandas.core.series.Series'>\n"
     ]
    },
    {
     "data": {
      "text/plain": [
       "0    e\n",
       "1    e\n",
       "2    p\n",
       "3    e\n",
       "4    e\n",
       "Name: poisonous, dtype: object"
      ]
     },
     "execution_count": 3,
     "metadata": {},
     "output_type": "execute_result"
    }
   ],
   "source": [
    "print(type(y))\n",
    "y.head()"
   ]
  },
  {
   "cell_type": "code",
   "execution_count": 4,
   "metadata": {},
   "outputs": [
    {
     "name": "stdout",
     "output_type": "stream",
     "text": [
      "<class 'pandas.core.frame.DataFrame'>\n",
      "RangeIndex: 8123 entries, 0 to 8122\n",
      "Data columns (total 22 columns):\n",
      " #   Column                    Non-Null Count  Dtype \n",
      "---  ------                    --------------  ----- \n",
      " 0   cap-shape                 8123 non-null   object\n",
      " 1   cap-surface               8123 non-null   object\n",
      " 2   cap-color                 8123 non-null   object\n",
      " 3   bruises?                  8123 non-null   object\n",
      " 4   odor                      8123 non-null   object\n",
      " 5   gill-attachment           8123 non-null   object\n",
      " 6   gill-spacing              8123 non-null   object\n",
      " 7   gill-size                 8123 non-null   object\n",
      " 8   gill-color                8123 non-null   object\n",
      " 9   stalk-shape               8123 non-null   object\n",
      " 10  stalk-root                8123 non-null   object\n",
      " 11  stalk-surface-above-ring  8123 non-null   object\n",
      " 12  stalk-surface-below-ring  8123 non-null   object\n",
      " 13  stalk-color-above-ring    8123 non-null   object\n",
      " 14  stalk-color-below-ring    8123 non-null   object\n",
      " 15  veil-type                 8123 non-null   object\n",
      " 16  veil-color                8123 non-null   object\n",
      " 17  ring-number               8123 non-null   object\n",
      " 18  ring-type                 8123 non-null   object\n",
      " 19  spore-print-color         8123 non-null   object\n",
      " 20  population                8123 non-null   object\n",
      " 21  habitat                   8123 non-null   object\n",
      "dtypes: object(22)\n",
      "memory usage: 1.4+ MB\n"
     ]
    }
   ],
   "source": [
    "X.info()"
   ]
  },
  {
   "cell_type": "code",
   "execution_count": null,
   "metadata": {},
   "outputs": [],
   "source": [
    "X.describe()"
   ]
  },
  {
   "cell_type": "markdown",
   "metadata": {},
   "source": [
    "## 의사결정나무, 엔트로피, 정보이득  \n",
    "* https://danbi-ncsoft.github.io/study/2018/12/06/entropy.html"
   ]
  },
  {
   "cell_type": "markdown",
   "metadata": {},
   "source": [
    "### 정보이득 구하는 공식\n",
    "$IG(S, F) = e(S) - \\sum_{f \\in F} \\dfrac{|S_f|}{|S|} e(S_f)$\n",
    "* S: 전체 사건의 집합\n",
    "* F: feature, \n",
    "* f: feature 속성\n",
    "* Sf: f 속성을 지닌 사건의 집합\n",
    "* |X|: 집합 X의 크기 (원소의 갯수)\n",
    "* e(X): X라는 사건 집합이 지닌 엔트로피"
   ]
  },
  {
   "cell_type": "markdown",
   "metadata": {},
   "source": [
    "### e(S) 엔트로피 구하는 공식 \n",
    "$e = - \\sum_{i=0}^{n} p_i \\log p_i$"
   ]
  },
  {
   "cell_type": "code",
   "execution_count": 5,
   "metadata": {},
   "outputs": [],
   "source": [
    "## entropy \n",
    "\n",
    "# y.head()\n",
    "    # 0    e\n",
    "    # 1    e\n",
    "    # 2    p\n",
    "    # 3    e\n",
    "    # 4    e\n",
    "def entropy(y):\n",
    "    probs = []        # Probabilities of each class label # List\n",
    "    for c in set(y): # set() 순서가없고 중복허용하지 않음 {} # Set gets a unique set of values. We're iterating over each value ==> e, p \n",
    "        # print(f'c:{c}')\n",
    "        \n",
    "        num_same_class = sum(y == c)  # y == c : boolean mask # Remember that true == 1, so we can sum.\n",
    "        # print(f'{num_same_class}')    # 4208                 # 3915\n",
    "        \n",
    "        # Probability of this class label\n",
    "        p = num_same_class / len(y)\n",
    "        # print(f'{p}')                 # 0.5180352086667488  #0.48196479133325126\n",
    "        \n",
    "        probs.append(p)\n",
    "    # print(f'{probs}') # [0.5180352086667488, 0.48196479133325126]\n",
    "    \n",
    "    # entropy return\n",
    "    return np.sum(-p * np.log2(p) for p in probs)\n",
    "\n",
    "# print(f'{entropy(y)}')  # 0.9990612691483578\n",
    "# print(f'{entropy(y):.2f}') # 1.00"
   ]
  },
  {
   "cell_type": "code",
   "execution_count": 6,
   "metadata": {},
   "outputs": [],
   "source": [
    "# 각 feature의 요소에 대한 y값 확률 list  # value_counts() 값으로 이해\n",
    "def class_probability(feature, y):\n",
    "    \"\"\"Calculates the proportional length of each value in the set of instances\"\"\"\n",
    "#     print(feature.value_counts())\n",
    "#         x    3655\n",
    "#         f    3152\n",
    "#         k     828\n",
    "#         b     452\n",
    "#         s      32\n",
    "#         c       4\n",
    "\n",
    "    probs = []\n",
    "    for value in set(feature): \n",
    "        \n",
    "        # boolean mask\n",
    "        select = feature == value # Split by feature value into two classes\n",
    "#         print(f'select: {select}')\n",
    "#             select: 0       False\n",
    "#                     1       False\n",
    "#                     2       False\n",
    "#                     3       False\n",
    "#                     4       False\n",
    "#                             ...  \n",
    "#                     8118    False\n",
    "#                     8119    False\n",
    "#                     8120     True\n",
    "#                     8121    False\n",
    "#                     8122    False\n",
    "        \n",
    "        # y값에 해당feature boolean mask 적용\n",
    "        y_new = y[select]         # Those that exist in this class are now in y_new\n",
    "#        print(f'y_new: {y_new}')\n",
    "#             y_new: 15      e\n",
    "#                     24      p\n",
    "#                     27      e\n",
    "#                     48      e\n",
    "#                     55      e\n",
    "#                            ..\n",
    "#                     8074    e\n",
    "#                     8076    e\n",
    "#                     8099    e\n",
    "#                     8113    p\n",
    "#                     8120    e\n",
    "        \n",
    "        probs.append(float(len(y_new))/len(X))  # Convert to float, because ints don't divide well\n",
    "    return probs\n",
    "#         [0.38803397759448477,\n",
    "#          0.10193278345438878,\n",
    "#          0.05564446633017358,\n",
    "#          0.449956912470762,\n",
    "#          0.0004924289055767574,\n",
    "#          0.003939431244614059]\n",
    "\n",
    "# class_probability(X['cap-shape'], y)"
   ]
  },
  {
   "cell_type": "code",
   "execution_count": 7,
   "metadata": {},
   "outputs": [],
   "source": [
    "# 각 feature별 요소에 대한 entropy계산 list\n",
    "def class_entropy(feature, y):\n",
    "    \"\"\"Calculates the entropy for each value in the set of instances\"\"\"\n",
    "    ents = []\n",
    "    for value in set(feature):\n",
    "        select = feature == value # Split by feature value into two classes\n",
    "        y_new = y[select]         # Those that exist in this class are now in y_new\n",
    "        ents.append(entropy(y_new))\n",
    "    return ents\n",
    "\n",
    "# class_entropy(X['cap-shape'], y)\n",
    "    # [0.9998838273848729,\n",
    "    #  0.8490544242540479,\n",
    "    #  0.48833020341885913,\n",
    "    #  0.9968615226633971,\n",
    "    #  0.0,\n",
    "    #  0.0]"
   ]
  },
  {
   "cell_type": "code",
   "execution_count": 8,
   "metadata": {},
   "outputs": [],
   "source": [
    "# 각 feature 요소들에 대한 정보이득 구하기 \n",
    "def proportionate_class_entropy(feature, y):\n",
    "    \"\"\"Calculatates the weighted proportional entropy for a feature when splitting on all values\"\"\"\n",
    "    probs = class_probability(feature, y)\n",
    "    ents = class_entropy(feature, y)\n",
    "    return np.sum(np.multiply(probs, ents)) "
   ]
  },
  {
   "cell_type": "code",
   "execution_count": 9,
   "metadata": {},
   "outputs": [
    {
     "name": "stdout",
     "output_type": "stream",
     "text": [
      "X[\"cap-shape\"] : Information gain of 0.05\n"
     ]
    },
    {
     "name": "stderr",
     "output_type": "stream",
     "text": [
      "<ipython-input-5-4e0a00f44701>:25: DeprecationWarning: Calling np.sum(generator) is deprecated, and in the future will give a different result. Use np.sum(np.fromiter(generator)) or the python sum builtin instead.\n",
      "  return np.sum(-p * np.log2(p) for p in probs)\n"
     ]
    }
   ],
   "source": [
    "new_entropy = proportionate_class_entropy(X[\"cap-shape\"], y)\n",
    "print(f'X[\"cap-shape\"] : Information gain of {entropy(y) - new_entropy:.2f}')\n",
    "# X[\"cap-shape\"] : Information gain of 0.05"
   ]
  },
  {
   "cell_type": "code",
   "execution_count": 10,
   "metadata": {},
   "outputs": [
    {
     "name": "stdout",
     "output_type": "stream",
     "text": [
      "X[\"odor\"] : Information gain of 0.91\n"
     ]
    },
    {
     "name": "stderr",
     "output_type": "stream",
     "text": [
      "<ipython-input-5-4e0a00f44701>:25: DeprecationWarning: Calling np.sum(generator) is deprecated, and in the future will give a different result. Use np.sum(np.fromiter(generator)) or the python sum builtin instead.\n",
      "  return np.sum(-p * np.log2(p) for p in probs)\n"
     ]
    }
   ],
   "source": [
    "new_entropy = proportionate_class_entropy(X[\"odor\"], y)\n",
    "print(f'X[\"odor\"] : Information gain of {entropy(y) - new_entropy:.2f}')\n",
    "# X[\"odor\"] : Information gain of 0.91"
   ]
  },
  {
   "cell_type": "markdown",
   "metadata": {},
   "source": [
    "### 어느 feature가 가장 높은 정보이득을 가지게 되는가?"
   ]
  },
  {
   "cell_type": "code",
   "execution_count": 11,
   "metadata": {},
   "outputs": [
    {
     "name": "stderr",
     "output_type": "stream",
     "text": [
      "<ipython-input-5-4e0a00f44701>:25: DeprecationWarning: Calling np.sum(generator) is deprecated, and in the future will give a different result. Use np.sum(np.fromiter(generator)) or the python sum builtin instead.\n",
      "  return np.sum(-p * np.log2(p) for p in probs)\n"
     ]
    },
    {
     "name": "stdout",
     "output_type": "stream",
     "text": [
      "cap-shape : 0.05\n",
      "cap-surface : 0.03\n",
      "cap-color : 0.04\n",
      "bruises? : 0.19\n",
      "odor : 0.91\n",
      "gill-attachment : 0.01\n",
      "gill-spacing : 0.10\n",
      "gill-size : 0.23\n",
      "gill-color : 0.42\n",
      "stalk-shape : 0.01\n",
      "stalk-root : 0.13\n",
      "stalk-surface-above-ring : 0.28\n",
      "stalk-surface-below-ring : 0.27\n",
      "stalk-color-above-ring : 0.25\n",
      "stalk-color-below-ring : 0.24\n",
      "veil-type : 0.00\n",
      "veil-color : 0.02\n",
      "ring-number : 0.04\n",
      "ring-type : 0.32\n",
      "spore-print-color : 0.48\n",
      "population : 0.20\n",
      "habitat : 0.16\n"
     ]
    }
   ],
   "source": [
    "for c in X.columns:\n",
    "    new_entropy = proportionate_class_entropy(X[c], y)\n",
    "    print(f'{c} : {entropy(y) - new_entropy:.2f}')\n",
    "#         cap-shape : 0.05\n",
    "#         cap-surface : 0.03\n",
    "#         cap-color : 0.04\n",
    "#         bruises? : 0.19\n",
    "#         odor : 0.91\n",
    "#         gill-attachment : 0.01\n",
    "#         gill-spacing : 0.10\n",
    "#         gill-size : 0.23\n",
    "#         gill-color : 0.42\n",
    "#         stalk-shape : 0.01\n",
    "#         stalk-root : 0.13\n",
    "#         stalk-surface-above-ring : 0.28\n",
    "#         stalk-surface-below-ring : 0.27\n",
    "#         stalk-color-above-ring : 0.25\n",
    "#         stalk-color-below-ring : 0.24\n",
    "#         veil-type : 0.00\n",
    "#         veil-color : 0.02\n",
    "#         ring-number : 0.04\n",
    "#         ring-type : 0.32\n",
    "#         spore-print-color : 0.48\n",
    "#         population : 0.20\n",
    "#         habitat : 0.16"
   ]
  },
  {
   "cell_type": "markdown",
   "metadata": {},
   "source": [
    "### plotting"
   ]
  },
  {
   "cell_type": "code",
   "execution_count": 12,
   "metadata": {},
   "outputs": [
    {
     "name": "stderr",
     "output_type": "stream",
     "text": [
      "<ipython-input-5-4e0a00f44701>:25: DeprecationWarning: Calling np.sum(generator) is deprecated, and in the future will give a different result. Use np.sum(np.fromiter(generator)) or the python sum builtin instead.\n",
      "  return np.sum(-p * np.log2(p) for p in probs)\n",
      "<ipython-input-12-50ce9f8d5b01>:14: MatplotlibDeprecationWarning: Using a string of single character colors as a color sequence is deprecated. Use an explicit list instead.\n",
      "  plt.bar(positions, entropy, width=probability, color=colours[:len(probability)])\n"
     ]
    },
    {
     "data": {
      "image/png": "[encoded data removed]",
      "text/plain": [
       "<Figure size 432x288 with 1 Axes>"
      ]
     },
     "metadata": {
      "needs_background": "light"
     },
     "output_type": "display_data"
    }
   ],
   "source": [
    "import matplotlib.pyplot as plt\n",
    "\n",
    "colours = 'bgrcmk'  # An array of colours used during plotting later on.\n",
    "\n",
    "# feature\n",
    "def plot_entropy(probability, entropy, labels):\n",
    "    \"\"\"Graphical representation of entropy when splitting on each value\"\"\"\n",
    "\n",
    "    # Some complex calculations to get the centre of the bars\n",
    "    positions = np.array([0])\n",
    "    positions = np.concatenate((positions, np.cumsum(probability)[:-1]))\n",
    "    positions += np.divide(probability, 2)\n",
    "\n",
    "    # Plot bars with colours\n",
    "    plt.bar(positions, entropy, width=probability, color=colours[:len(probability)])\n",
    "\n",
    "    # Set limits\n",
    "    plt.ylim([0, 1])\n",
    "    plt.xlim([0, 1])\n",
    "\n",
    "    # Labels\n",
    "    plt.ylabel(\"Entropy\")\n",
    "    plt.xlabel(\"Probability\")\n",
    "\n",
    "    # If labels are provided, plot some text\n",
    "    if labels:\n",
    "        props = dict(boxstyle='round', facecolor='wheat', alpha=0.5)\n",
    "        for i, lab in enumerate(labels):\n",
    "            # Plot text\n",
    "            plt.text(positions[i], 0.1, lab, fontsize=14, verticalalignment='top', bbox=props)\n",
    "\n",
    "# Plot for \"cap-shape\" feature\n",
    "feature = X[\"cap-shape\"]\n",
    "# Calculate probabilities and entropies\n",
    "probs = class_probability(feature, y)\n",
    "ents = class_entropy(feature, y)\n",
    "labels = set(feature)\n",
    "plot_entropy(probs, ents, labels)\n",
    "plt.show() "
   ]
  },
  {
   "cell_type": "code",
   "execution_count": 16,
   "metadata": {},
   "outputs": [
    {
     "name": "stderr",
     "output_type": "stream",
     "text": [
      "<ipython-input-5-4e0a00f44701>:25: DeprecationWarning: Calling np.sum(generator) is deprecated, and in the future will give a different result. Use np.sum(np.fromiter(generator)) or the python sum builtin instead.\n",
      "  return np.sum(-p * np.log2(p) for p in probs)\n",
      "<ipython-input-12-50ce9f8d5b01>:14: MatplotlibDeprecationWarning: Using a string of single character colors as a color sequence is deprecated. Use an explicit list instead.\n",
      "  plt.bar(positions, entropy, width=probability, color=colours[:len(probability)])\n"
     ]
    },
    {
     "data": {
      "image/png": "[encoded data removed]",
      "text/plain": [
       "<Figure size 432x288 with 1 Axes>"
      ]
     },
     "metadata": {
      "needs_background": "light"
     },
     "output_type": "display_data"
    }
   ],
   "source": [
    "# Plot for \"odor\" feature\n",
    "feature = X[\"odor\"]\n",
    "# print(feature.value_counts())\n",
    "#     n    3528\n",
    "#     f    2160\n",
    "#     s     576\n",
    "#     y     576\n",
    "#     a     400\n",
    "#     l     400\n",
    "#     p     255\n",
    "#     c     192\n",
    "#     m      36\n",
    "probs = class_probability(feature, y)\n",
    "ents = class_entropy(feature, y)\n",
    "labels = set(feature)\n",
    "plot_entropy(probs, ents, labels)\n",
    "plt.show()"
   ]
  },
  {
   "cell_type": "code",
   "execution_count": null,
   "metadata": {},
   "outputs": [],
   "source": []
  }
 ],
 "metadata": {
  "kernelspec": {
   "display_name": "Python 3",
   "language": "python",
   "name": "python3"
  },
  "language_info": {
   "codemirror_mode": {
    "name": "ipython",
    "version": 3
   },
   "file_extension": ".py",
   "mimetype": "text/x-python",
   "name": "python",
   "nbconvert_exporter": "python",
   "pygments_lexer": "ipython3",
   "version": "3.8.3"
  }
 },
 "nbformat": 4,
 "nbformat_minor": 4
}
