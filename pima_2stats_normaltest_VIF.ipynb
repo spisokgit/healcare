{
 "cells": [
  {
   "cell_type": "markdown",
   "metadata": {},
   "source": [
    "### 데이터 로딩 및 라이브러리 import"
   ]
  },
  {
   "cell_type": "code",
   "execution_count": 2,
   "metadata": {},
   "outputs": [
    {
     "data": {
      "text/html": [
       "<div>\n",
       "<style scoped>\n",
       "    .dataframe tbody tr th:only-of-type {\n",
       "        vertical-align: middle;\n",
       "    }\n",
       "\n",
       "    .dataframe tbody tr th {\n",
       "        vertical-align: top;\n",
       "    }\n",
       "\n",
       "    .dataframe thead th {\n",
       "        text-align: right;\n",
       "    }\n",
       "</style>\n",
       "<table border=\"1\" class=\"dataframe\">\n",
       "  <thead>\n",
       "    <tr style=\"text-align: right;\">\n",
       "      <th></th>\n",
       "      <th>Pregnancies</th>\n",
       "      <th>Glucose</th>\n",
       "      <th>BloodPressure</th>\n",
       "      <th>SkinThickness</th>\n",
       "      <th>Insulin</th>\n",
       "      <th>BMI</th>\n",
       "      <th>DiabetesPedigreeFunction</th>\n",
       "      <th>Age</th>\n",
       "      <th>Outcome</th>\n",
       "    </tr>\n",
       "  </thead>\n",
       "  <tbody>\n",
       "    <tr>\n",
       "      <th>0</th>\n",
       "      <td>6</td>\n",
       "      <td>148</td>\n",
       "      <td>72</td>\n",
       "      <td>35</td>\n",
       "      <td>0</td>\n",
       "      <td>33.6</td>\n",
       "      <td>0.627</td>\n",
       "      <td>50</td>\n",
       "      <td>1</td>\n",
       "    </tr>\n",
       "    <tr>\n",
       "      <th>1</th>\n",
       "      <td>1</td>\n",
       "      <td>85</td>\n",
       "      <td>66</td>\n",
       "      <td>29</td>\n",
       "      <td>0</td>\n",
       "      <td>26.6</td>\n",
       "      <td>0.351</td>\n",
       "      <td>31</td>\n",
       "      <td>0</td>\n",
       "    </tr>\n",
       "    <tr>\n",
       "      <th>2</th>\n",
       "      <td>8</td>\n",
       "      <td>183</td>\n",
       "      <td>64</td>\n",
       "      <td>0</td>\n",
       "      <td>0</td>\n",
       "      <td>23.3</td>\n",
       "      <td>0.672</td>\n",
       "      <td>32</td>\n",
       "      <td>1</td>\n",
       "    </tr>\n",
       "  </tbody>\n",
       "</table>\n",
       "</div>"
      ],
      "text/plain": [
       "   Pregnancies  Glucose  BloodPressure  SkinThickness  Insulin   BMI  \\\n",
       "0            6      148             72             35        0  33.6   \n",
       "1            1       85             66             29        0  26.6   \n",
       "2            8      183             64              0        0  23.3   \n",
       "\n",
       "   DiabetesPedigreeFunction  Age  Outcome  \n",
       "0                     0.627   50        1  \n",
       "1                     0.351   31        0  \n",
       "2                     0.672   32        1  "
      ]
     },
     "execution_count": 2,
     "metadata": {},
     "output_type": "execute_result"
    }
   ],
   "source": [
    "import numpy as np\n",
    "import pandas as pd\n",
    "import matplotlib.pyplot as plt\n",
    "%matplotlib inline\n",
    "\n",
    "from IPython.display import Image  # 주피터 노트북에 이미지 삽입\n",
    "import seaborn as sns\n",
    "import matplotlib.ticker as ticker # plt 축의 tik(눈금, 틱) \n",
    "\n",
    "from sklearn.model_selection import train_test_split\n",
    "from sklearn.metrics import accuracy_score, precision_score, recall_score, roc_auc_score\n",
    "from sklearn.metrics import f1_score, confusion_matrix, precision_recall_curve, roc_curve\n",
    "from sklearn.preprocessing import StandardScaler\n",
    "from sklearn.linear_model import LogisticRegression\n",
    "\n",
    "df = pd.read_csv('Data/diabetes.csv')\n",
    "df.head(3)"
   ]
  },
  {
   "cell_type": "markdown",
   "metadata": {},
   "source": [
    "* Pregnancies : 임신횟수  \n",
    "* Glucose : 경구 포도당 내성검사 2시간 혈장 포도당 농도 (140미만 정상, 140-199 내당능장애, 200이상 당뇨병)  \n",
    "* BloodPressure : 이완기 혈압 (mmHg)\n",
    "* SkinThickness : 팔 삼두근 뒤쪽의 피하지방 측정값 (mm)\n",
    "* Insulin : 2시간 혈청 인슐린(mu U/mL)\n",
    "* BMI : 체질량지수(체중(kg) / 키(cm)^2)\n",
    "* DiabetesPedigreeFunction : 당뇨 직계 가족력\n",
    "* Age : 나이\n",
    "* Outcome : 5년이내 당뇨병 발병여부 (0 또는 1)    "
   ]
  },
  {
   "cell_type": "code",
   "execution_count": 3,
   "metadata": {},
   "outputs": [
    {
     "ename": "SyntaxError",
     "evalue": "invalid syntax (<ipython-input-3-abb7779ad9ea>, line 2)",
     "output_type": "error",
     "traceback": [
      "\u001b[1;36m  File \u001b[1;32m\"<ipython-input-3-abb7779ad9ea>\"\u001b[1;36m, line \u001b[1;32m2\u001b[0m\n\u001b[1;33m    * df.info() : length, not null(결측치), data type\u001b[0m\n\u001b[1;37m                        ^\u001b[0m\n\u001b[1;31mSyntaxError\u001b[0m\u001b[1;31m:\u001b[0m invalid syntax\n"
     ]
    }
   ],
   "source": [
    "### 데이터 전처리 \n",
    "* df.info() : length, not null(결측치), data type\n",
    "* df.describe() : 4분위, 통계(statics)\n",
    "* plot : 시각적 분포(histogram,swarmplot, boxplot(이상치))\n",
    "* zero 0값 찾기\n",
    "#### ==> pandas_profiling"
   ]
  },
  {
   "cell_type": "markdown",
   "metadata": {},
   "source": [
    "## 정규분포 검사"
   ]
  },
  {
   "cell_type": "code",
   "execution_count": 4,
   "metadata": {},
   "outputs": [
    {
     "name": "stdout",
     "output_type": "stream",
     "text": [
      "통계:0.819 p값:0.000\n"
     ]
    }
   ],
   "source": [
    "#scipy.stats에서 샤피로 가져 오기\n",
    "from scipy.stats import shapiro , normaltest , anderson , kstest\n",
    "stat, p = shapiro (df[ 'BloodPressure']) \n",
    "print (f'통계:{stat:.3f} p값:{p:.3f}')"
   ]
  },
  {
   "cell_type": "markdown",
   "metadata": {},
   "source": [
    "#### shapiro"
   ]
  },
  {
   "cell_type": "code",
   "execution_count": 5,
   "metadata": {},
   "outputs": [
    {
     "name": "stdout",
     "output_type": "stream",
     "text": [
      "normal:  []\n",
      "notnormal:  ['Pregnancies', 'Glucose', 'BloodPressure', 'SkinThickness', 'Insulin', 'BMI', 'DiabetesPedigreeFunction', 'Age', 'Outcome']\n"
     ]
    }
   ],
   "source": [
    "normal = []\n",
    "notnormal = []\n",
    "num_var= ['Pregnancies','Glucose', 'BloodPressure','SkinThickness','Insulin','BMI','DiabetesPedigreeFunction', 'Age', 'Outcome' ]\n",
    "for var in num_var :\n",
    "#     stat, p  = shapiro(df[var].dropna().values)  # zero column 삭제\n",
    "#     stat, p  = normaltest(df[var].dropna().values)  # zero column 삭제\n",
    "    \n",
    "    stat, p  = shapiro(df[var].fillna(value=df[var].median()).values) # 중앙값 대체\n",
    "#     stat, p  = normaltest(df[var].fillna(value=df[var].median()).values)# 중앙값 대체\n",
    "    \n",
    "    alpha = 0.05\n",
    "    if p > alpha :\n",
    "        normal.append(var)\n",
    "    else :\n",
    "        notnormal.append(var)\n",
    "print(f'normal:  {normal}')\n",
    "print(f'notnormal:  {notnormal}')"
   ]
  },
  {
   "cell_type": "markdown",
   "metadata": {},
   "source": [
    "#### kstest"
   ]
  },
  {
   "cell_type": "code",
   "execution_count": 6,
   "metadata": {},
   "outputs": [
    {
     "name": "stdout",
     "output_type": "stream",
     "text": [
      "normal:  []\n",
      "notnormal:  ['Pregnancies', 'Glucose', 'BloodPressure', 'SkinThickness', 'Insulin', 'BMI', 'DiabetesPedigreeFunction', 'Age', 'Outcome']\n"
     ]
    }
   ],
   "source": [
    "normal = []\n",
    "notnormal = []\n",
    "num_var= ['Pregnancies','Glucose', 'BloodPressure','SkinThickness','Insulin','BMI','DiabetesPedigreeFunction', 'Age', 'Outcome' ]\n",
    "for var in num_var :\n",
    "    stat,p  = kstest(df[var].dropna().values, \"norm\")\n",
    "#     stat,p  = kstest(df[var].fillna(value=df[var].median()).values, \"norm\")\n",
    "    alpha = 0.05\n",
    "    if p > alpha :\n",
    "        normal.append(var)\n",
    "    else :\n",
    "        notnormal.append(var)\n",
    "print(f'normal:  {normal}')\n",
    "print(f'notnormal:  {notnormal}')"
   ]
  },
  {
   "cell_type": "markdown",
   "metadata": {},
   "source": [
    "## VIF를 통한 다중공선선 확인"
   ]
  },
  {
   "cell_type": "code",
   "execution_count": null,
   "metadata": {},
   "outputs": [],
   "source": [
    "* VIF는 variance inflation factor의 줄임말로, 다중공선성을 확인할 때 쓰는 지표 중 하나다.  \n",
    "* variance inflation factor는 말그대로 \"분산팽창요인\"이다. 보통은 VIF가 10보다 크면 다중공선성이 있다고 판단한다.  \n",
    "* 하지만, 다른 과정을 함께 거쳐주는 것이 다중공선성 문제 확인의 신뢰성을 높인다.  "
   ]
  },
  {
   "cell_type": "code",
   "execution_count": 12,
   "metadata": {},
   "outputs": [
    {
     "data": {
      "text/html": [
       "<div>\n",
       "<style scoped>\n",
       "    .dataframe tbody tr th:only-of-type {\n",
       "        vertical-align: middle;\n",
       "    }\n",
       "\n",
       "    .dataframe tbody tr th {\n",
       "        vertical-align: top;\n",
       "    }\n",
       "\n",
       "    .dataframe thead th {\n",
       "        text-align: right;\n",
       "    }\n",
       "</style>\n",
       "<table border=\"1\" class=\"dataframe\">\n",
       "  <thead>\n",
       "    <tr style=\"text-align: right;\">\n",
       "      <th></th>\n",
       "      <th>VIF Factor</th>\n",
       "      <th>features</th>\n",
       "    </tr>\n",
       "  </thead>\n",
       "  <tbody>\n",
       "    <tr>\n",
       "      <th>0</th>\n",
       "      <td>3.364416</td>\n",
       "      <td>Pregnancies</td>\n",
       "    </tr>\n",
       "    <tr>\n",
       "      <th>1</th>\n",
       "      <td>18.030209</td>\n",
       "      <td>Glucose</td>\n",
       "    </tr>\n",
       "    <tr>\n",
       "      <th>2</th>\n",
       "      <td>15.313159</td>\n",
       "      <td>BloodPressure</td>\n",
       "    </tr>\n",
       "    <tr>\n",
       "      <th>3</th>\n",
       "      <td>4.008709</td>\n",
       "      <td>SkinThickness</td>\n",
       "    </tr>\n",
       "    <tr>\n",
       "      <th>4</th>\n",
       "      <td>2.063940</td>\n",
       "      <td>Insulin</td>\n",
       "    </tr>\n",
       "    <tr>\n",
       "      <th>5</th>\n",
       "      <td>18.515112</td>\n",
       "      <td>BMI</td>\n",
       "    </tr>\n",
       "    <tr>\n",
       "      <th>6</th>\n",
       "      <td>3.213450</td>\n",
       "      <td>DiabetesPedigreeFunction</td>\n",
       "    </tr>\n",
       "    <tr>\n",
       "      <th>7</th>\n",
       "      <td>13.500531</td>\n",
       "      <td>Age</td>\n",
       "    </tr>\n",
       "    <tr>\n",
       "      <th>8</th>\n",
       "      <td>1.948398</td>\n",
       "      <td>Outcome</td>\n",
       "    </tr>\n",
       "  </tbody>\n",
       "</table>\n",
       "</div>"
      ],
      "text/plain": [
       "   VIF Factor                  features\n",
       "0    3.364416               Pregnancies\n",
       "1   18.030209                   Glucose\n",
       "2   15.313159             BloodPressure\n",
       "3    4.008709             SkinThickness\n",
       "4    2.063940                   Insulin\n",
       "5   18.515112                       BMI\n",
       "6    3.213450  DiabetesPedigreeFunction\n",
       "7   13.500531                       Age\n",
       "8    1.948398                   Outcome"
      ]
     },
     "execution_count": 12,
     "metadata": {},
     "output_type": "execute_result"
    }
   ],
   "source": [
    "import statsmodels.api as sm\n",
    "from patsy import dmatrices\n",
    "from statsmodels.stats.outliers_influence import variance_inflation_factor \n",
    "\n",
    "vif = pd.DataFrame()\n",
    "vif[\"VIF Factor\"] = [variance_inflation_factor(df.values, i) for i in range(df.shape[1])]\n",
    "vif[\"features\"] = df.columns\n",
    "vif"
   ]
  },
  {
   "cell_type": "code",
   "execution_count": null,
   "metadata": {},
   "outputs": [],
   "source": [
    "#### 아래는 boston 사례임"
   ]
  },
  {
   "cell_type": "code",
   "execution_count": null,
   "metadata": {},
   "outputs": [],
   "source": [
    "* RM, B, TAX, AGE, NOX, INDUS 변수들의 VIF가 10보다 크다. \n",
    "* vif가 높은 변수가 하나씩 줄어들면 다른 변수들의 vif에도 영향을 미친다.  \n",
    "* 그래서 변수들을 한 번에 다 제거하기보다는 하나씩 제거하면서 확인해 나아가는 것이 바람직하다. "
   ]
  },
  {
   "cell_type": "code",
   "execution_count": null,
   "metadata": {},
   "outputs": [],
   "source": [
    "# nox 변수 제거 후 vif 확인\n",
    "\n",
    "vif = pd.DataFrame()\n",
    "x_data3 = x_data2.drop(\"NOX\",axis=1)\n",
    "vif[\"VIF Factor\"] = [variance_inflation_factor(x_data3.values, i) for i in range(x_data3.shape[1])]\n",
    "vif[\"features\"] = x_data3.columns\n",
    "vif"
   ]
  },
  {
   "cell_type": "code",
   "execution_count": null,
   "metadata": {},
   "outputs": [],
   "source": [
    "* 전반적으로 약간씩 VIF가 줄어들었다. 하지만 RM은 여전히 매우 높기에 확실하게 제거할 필요가 있다.  "
   ]
  },
  {
   "cell_type": "code",
   "execution_count": null,
   "metadata": {},
   "outputs": [],
   "source": [
    "# RM 변수 제거후 VIF확인\n",
    "\n",
    "vif = pd.DataFrame()\n",
    "x_data4 = x_data3.drop(\"RM\",axis = 1)\n",
    "vif[\"VIF Factor\"] = [variance_inflation_factor(x_data4.values, i) for i in range(x_data4.shape[1])]\n",
    "vif[\"features\"] = x_data4.columns\n",
    "vif"
   ]
  },
  {
   "cell_type": "code",
   "execution_count": null,
   "metadata": {},
   "outputs": [],
   "source": [
    "# nox 변수를 제거한 x_data3 상수항 추가 후 회귀모델 적합시키기\n",
    "# nox, rm 변수를 제거한 x_data4 상수항 추가 후 회귀모델 적합시키기\n",
    "\n",
    "x_data3_ = sm.add_constant(x_data3, has_constant = \"add\")\n",
    "x_data4_ = sm.add_constant(x_data4, has_constant = \"add\")\n",
    "\n",
    "model_vif = sm.OLS(target, x_data3_)\n",
    "fitted_model_vif = model_vif.fit()\n",
    "\n",
    "model_vif2 = sm.OLS(target,x_data4_)\n",
    "fitted_model_vif = model_vif2.fit()\n",
    "\n",
    "# 두 vif를 통한 변수제거 회귀모델의 결과를 비교\n",
    "\n",
    "fitted_model_vif.summary()"
   ]
  },
  {
   "cell_type": "code",
   "execution_count": null,
   "metadata": {},
   "outputs": [],
   "source": [
    "* 맨 처음 모든 변수를 다 더했을 때 OLS는 condition number가 1.04e+04 였는데 \n",
    "* nox변수를 지우고 나서 8.44e+03으로 떨어진 것을 확인 할 수 있다. 다중공선성이 조금은 완화된 것을 확인할 수 있다  "
   ]
  },
  {
   "cell_type": "code",
   "execution_count": null,
   "metadata": {},
   "outputs": [],
   "source": [
    "* 위는 NOX와 RM 모두 제거 후 OLS검정 결과인데, 여기서 condition number는 3.85e+03으로 훨씬 더 낮아졌다.  \n",
    "* 물론 그렇다고 다중공선성이 완전하게 사라진 것은 아니다. 그래도 앞의 모델보다는 더 나은 결과를 보여준다.  "
   ]
  },
  {
   "cell_type": "markdown",
   "metadata": {},
   "source": [
    "### 데이터 분할 및 학습"
   ]
  },
  {
   "cell_type": "code",
   "execution_count": null,
   "metadata": {},
   "outputs": [],
   "source": [
    "# 학습 검증데이터 분할\n",
    "from sklearn.model_selection import train_test_split\n",
    "\n",
    "X = x_data2_\n",
    "y = target\n",
    "\n",
    "train_x, test_x, train_y, test_y = train_test_split(X,y, train_size = 0.7, test_size = 0.3, random_state = 1)\n",
    "# 학습데이터와 검증데이터를 7:3으로 분리한다.\n",
    "# random_state고정을 통해 그때마다 똑같은 값을 분류하도록 한다.\n",
    "\n",
    "print(train_x.shape, test_x.shape, train_y.shape, test_y.shape)"
   ]
  },
  {
   "cell_type": "code",
   "execution_count": null,
   "metadata": {},
   "outputs": [],
   "source": [
    "# train_x에 상수항 추가 후 최귀모델 적합\n",
    "\n",
    "fit_train1 = sm.OLS(train_y,train_x)\n",
    "fit_train1 = fit_train1.fit()\n",
    "\n",
    "# 검증데이터에 대한 예측값과 true값 비교\n",
    "\n",
    "plt.plot(np.array(fit_train1.predict(test_x)),label = \"pred\")\n",
    "plt.plot(np.array(test_y),label = \"true\")\n",
    "plt.legend()\n",
    "plt.show()"
   ]
  },
  {
   "cell_type": "code",
   "execution_count": null,
   "metadata": {},
   "outputs": [],
   "source": [
    "# x_data3와 x_data4 학습 검증데이터 분할\n",
    "\n",
    "X = x_data3_\n",
    "y = target\n",
    "train_x2,test_x2,train_y2,test_y2 = train_test_split(X,y,train_size=0.7, test_size=0.3, random_state=1)\n",
    "\n",
    "X = x_data4_\n",
    "y = target\n",
    "train_x3,test_x3,train_y3,test_y3 = train_test_split(X,y,train_size=0.7, test_size=0.3, random_state=1)\n",
    "\n",
    "# x_data3/x_data4의 회귀모델 적합 (fit_train2,fit_train3)\n",
    "\n",
    "fit_train2 = sm.OLS(train_y2,train_x2)\n",
    "fit_train2 = fit_train2.fit()\n",
    "\n",
    "fit_train3 = sm.OLS(train_y3,train_x3)\n",
    "fit_train3 = fit_train3.fit()\n",
    "\n",
    "# vif를 통해 NOX를 지운 데이터 x_data3 , NOX,RM을 지운 데이터 x_data4 full모델 실제값 비교\n",
    "\n",
    "plt.plot(np.array(fit_train1.predict(test_x)),label = \"pred_full\")\n",
    "plt.plot(np.array(fit_train2.predict(test_x2)),label = \"pred_vif\")\n",
    "plt.plot(np.array(fit_train3.predict(test_x3)),label = \"pred_vif2\")\n",
    "plt.plot(np.array(test_y2), label = \"true\")\n",
    "plt.legend()\n",
    "plt.show()"
   ]
  },
  {
   "cell_type": "code",
   "execution_count": null,
   "metadata": {},
   "outputs": [],
   "source": [
    "### MSE"
   ]
  },
  {
   "cell_type": "code",
   "execution_count": null,
   "metadata": {},
   "outputs": [],
   "source": [
    "from sklearn.metrics import mean_squared_error\n",
    "\n",
    "#변수 제거가 이루어지지 않은 full모델\n",
    "mse1 = mean_squared_error(y_true = test_y[\"Target\"], y_pred = fit_train1.predict(test_x))\n",
    "\n",
    "#변수 NOX만 제거한 모델\n",
    "mse2 = mean_squared_error(y_true = test_y[\"Target\"], y_pred = fit_train2.predict(test_x2))\n",
    "\n",
    "#변수 NOX와 RM 두 개를 제거한 모델\n",
    "mse3 = mean_squared_error(y_true = test_y[\"Target\"], y_pred = fit_train3.predict(test_x3))\n",
    "\n",
    "print(mse1)\n",
    "print(mse2)\n",
    "print(mse3)\n"
   ]
  }
 ],
 "metadata": {
  "kernelspec": {
   "display_name": "Python 3",
   "language": "python",
   "name": "python3"
  },
  "language_info": {
   "codemirror_mode": {
    "name": "ipython",
    "version": 3
   },
   "file_extension": ".py",
   "mimetype": "text/x-python",
   "name": "python",
   "nbconvert_exporter": "python",
   "pygments_lexer": "ipython3",
   "version": "3.8.3"
  }
 },
 "nbformat": 4,
 "nbformat_minor": 4
}
