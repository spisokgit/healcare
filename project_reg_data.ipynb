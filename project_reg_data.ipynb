{
 "cells": [
  {
   "cell_type": "code",
   "execution_count": 2,
   "metadata": {},
   "outputs": [],
   "source": [
    "import csv\n",
    "import pandas as pd\n",
    "import numpy as np\n",
    "import matplotlib.pyplot as plt\n",
    "import seaborn as sns\n",
    "import warnings\n",
    "warnings.filterwarnings(\"ignore\")\n",
    "warnings.filterwarnings(\"ignore\", category=RuntimeWarning)\n",
    "from IPython.display import HTML, display # jupyter 사진넣기\n",
    "import time                      # excution time 계산\n",
    "from datetime import datetime   # system time \n",
    "import json                     # json save\n",
    "# from imblearn.over_sampling import SMOTE\n",
    "from sklearn.tree import export_graphviz  # 결정트리 모형\n",
    "# import graphviz                         # 결정트리 모형\n",
    "from sklearn import tree                  # 결정트리 모형  # Classifier tree\n",
    "from sklearn.inspection import permutation_importance  # feature 중요도\n",
    "from sklearn.pipeline import Pipeline\n",
    "from sklearn.model_selection import train_test_split, GridSearchCV\n",
    "from sklearn.preprocessing import StandardScaler, Binarizer\n",
    "from sklearn.metrics import (accuracy_score, precision_score, recall_score, f1_score, roc_auc_score,\n",
    "                             confusion_matrix, precision_recall_curve, roc_curve)\n",
    "from sklearn.model_selection import learning_curve, ShuffleSplit\n",
    "\n",
    "from sklearn.linear_model import LogisticRegression, SGDClassifier\n",
    "from sklearn.svm import LinearSVC\n",
    "from sklearn.tree import DecisionTreeClassifier, plot_tree\n",
    "from sklearn.ensemble import (VotingClassifier, BaggingClassifier, RandomForestClassifier, AdaBoostClassifier,\n",
    "                                ExtraTreesClassifier, GradientBoostingClassifier)\n",
    "from sklearn.naive_bayes import GaussianNB\n",
    "from sklearn.neighbors import KNeighborsClassifier\n",
    "\n",
    "# import xgboost as xgb                # python wrapper\n",
    "from xgboost import XGBClassifier    # sklearn wrapper\n",
    "from lightgbm import LGBMClassifier  # sklearn wrapper\n",
    "\n",
    "import pickle                         # 모델 저장\n",
    "import matplotlib as mpl              # 한글깨짐\n",
    "import matplotlib.font_manager as fm  # 한글깨짐\n",
    "import matplotlib.font_manager        # 한글깨짐"
   ]
  },
  {
   "cell_type": "markdown",
   "metadata": {},
   "source": [
    "# project"
   ]
  },
  {
   "cell_type": "code",
   "execution_count": 9,
   "metadata": {},
   "outputs": [],
   "source": [
    "df = pd.read_csv('data/NHIS_total_model.csv')\n",
    "# # df = df.iloc[:10000, :]\n",
    "# # print(df.info())\n",
    "# # df.head(3)"
   ]
  },
  {
   "cell_type": "code",
   "execution_count": 10,
   "metadata": {},
   "outputs": [],
   "source": [
    "df['target'] = df['식전혈당(공복혈당)']\n",
    "df.drop('식전혈당(공복혈당)', axis=1, inplace=True)    \n",
    "# 연령대 코드 --> 연령 decoding 후 drop\n",
    "df['연령'] =df['연령대코드(5세단위)'].apply( lambda x: x*5 + 17 )\n",
    "df.drop('연령대코드(5세단위)', axis=1, inplace=True)\n",
    "df.to_csv('./data/NHIS_model_reg_1.csv', sep=',', encoding='utf-8', index=False)"
   ]
  },
  {
   "cell_type": "code",
   "execution_count": null,
   "metadata": {},
   "outputs": [],
   "source": [
    "## oneHotencoder"
   ]
  }
 ],
 "metadata": {
  "kernelspec": {
   "display_name": "Python 3",
   "language": "python",
   "name": "python3"
  },
  "language_info": {
   "codemirror_mode": {
    "name": "ipython",
    "version": 3
   },
   "file_extension": ".py",
   "mimetype": "text/x-python",
   "name": "python",
   "nbconvert_exporter": "python",
   "pygments_lexer": "ipython3",
   "version": "3.7.8"
  }
 },
 "nbformat": 4,
 "nbformat_minor": 4
}
