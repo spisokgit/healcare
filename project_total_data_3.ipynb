{
 "cells": [
  {
   "cell_type": "code",
   "execution_count": 1,
   "metadata": {},
   "outputs": [],
   "source": [
    "import csv\n",
    "import pandas as pd\n",
    "import numpy as np\n",
    "import matplotlib.pyplot as plt\n",
    "import seaborn as sns\n",
    "import warnings\n",
    "warnings.filterwarnings(\"ignore\")\n",
    "warnings.filterwarnings(\"ignore\", category=RuntimeWarning)\n",
    "from IPython.display import HTML, display # jupyter 사진넣기\n",
    "import time                      # excution time 계산\n",
    "from datetime import datetime   # system time \n",
    "import json                     # json save\n",
    "# from imblearn.over_sampling import SMOTE\n",
    "from sklearn import tree                  # 결정트리 모형  # Classifier tree\n",
    "from sklearn.inspection import permutation_importance  # feature 중요도\n",
    "from sklearn.pipeline import Pipeline\n",
    "from scipy import stats\n",
    "from scipy.stats import randint, uniform, loguniform\n",
    "from sklearn.model_selection import train_test_split, GridSearchCV, RandomizedSearchCV, cross_val_score\n",
    "from sklearn.preprocessing import StandardScaler, MinMaxScaler, Binarizer, PolynomialFeatures\n",
    "from sklearn.metrics import (accuracy_score,precision_score,recall_score,f1_score,roc_auc_score,confusion_matrix,\n",
    "                             precision_recall_curve,roc_curve,mean_squared_error,mean_absolute_error,r2_score)\n",
    "from sklearn.model_selection import learning_curve, ShuffleSplit\n",
    "\n",
    "from sklearn.linear_model import LogisticRegression,SGDClassifier,LinearRegression,SGDRegressor,Ridge,Lasso,ElasticNet\n",
    "from sklearn.svm import SVC, LinearSVC,LinearSVR\n",
    "from sklearn.tree import DecisionTreeClassifier, DecisionTreeRegressor, plot_tree \n",
    "from sklearn.ensemble import (VotingClassifier, BaggingClassifier, RandomForestClassifier, AdaBoostClassifier,\n",
    "                            ExtraTreesClassifier,GradientBoostingClassifier,RandomForestRegressor,GradientBoostingRegressor)\n",
    "from xgboost import XGBClassifier, XGBRegressor     # 사이킷런 wrapper\n",
    "from lightgbm import LGBMClassifier, LGBMRegressor   # 사이킷런 wrapper\n",
    "from sklearn.naive_bayes import GaussianNB\n",
    "\n",
    "import pickle                         # 모델 저장\n",
    "import matplotlib as mpl              # 한글깨짐\n",
    "import matplotlib.font_manager as fm  # 한글깨짐\n",
    "import matplotlib.font_manager        # 한글깨짐\n"
   ]
  },
  {
   "cell_type": "markdown",
   "metadata": {},
   "source": [
    "# project"
   ]
  },
  {
   "cell_type": "markdown",
   "metadata": {},
   "source": [
    "## Clf"
   ]
  },
  {
   "cell_type": "markdown",
   "metadata": {},
   "source": [
    "### clf sampling 1단계 target 수(52만)만큼 train sample(52만) 합 약 104만건 + scaling "
   ]
  },
  {
   "cell_type": "code",
   "execution_count": 2,
   "metadata": {},
   "outputs": [],
   "source": [
    "# df = pd.read_csv('data/NHIS_total_model.csv')\n",
    "# # df = df.iloc[:10000, :]\n",
    "# # print(df.info())\n",
    "# # df.head(3)"
   ]
  },
  {
   "cell_type": "code",
   "execution_count": null,
   "metadata": {},
   "outputs": [],
   "source": [
    "df_copy = df.copy()\n",
    "#     df_copy['target'] = df_copy['식전혈당(공복혈당)'].apply(lambda x: 1 if x >= 126 else ( 2 if 100 <= x < 126 else 3))\n",
    "df_copy['target'] = df_copy['식전혈당(공복혈당)'].apply(lambda x: 1 if x >= 126 else 0 )\n",
    "df_copy.drop('식전혈당(공복혈당)', axis=1, inplace=True)    \n",
    "# 연령대 코드 --> 연령 decoding 후 drop\n",
    "df_copy['연령'] =df_copy['연령대코드(5세단위)'].apply( lambda x: x*5 + 17 )\n",
    "df_copy.drop('연령대코드(5세단위)', axis=1, inplace=True)\n",
    "print(f\"target   count : {df_copy[df_copy['target'] == 1].shape[0]} ({ round(df_copy[df_copy['target'] == 1].shape[0]/df_copy.shape[0], 4)*100 })%\")\n",
    "print(f\"target외 count : {df_copy[df_copy['target'] != 1].shape[0]} ({ round(df_copy[df_copy['target'] != 1].shape[0]/df_copy.shape[0], 4)*100 })%\")"
   ]
  },
  {
   "cell_type": "code",
   "execution_count": null,
   "metadata": {},
   "outputs": [],
   "source": [
    "# filter\n",
    "target_count = df_copy[ df_copy['target'] == 1 ].shape[0]\n",
    "not_target_count = df_copy[ df_copy['target'] != 1 ].shape[0]\n",
    "\n",
    "# frac 설정 # if (target_count/not_target_count)*2 ==> train : test 비율이 2:1 ==> target 33.3%비율(전체 156만)\n",
    "frac=round( (target_count/not_target_count), 3) \n",
    "df_target = df_copy[ df_copy['target'] == 1 ]\n",
    "df_X =  df_copy[ df_copy['target'] != 1 ].sample(frac=frac, random_state=1)\n",
    "\n",
    "# concat\n",
    "df = pd.concat ([df_target, df_X]).sort_values(by=['기준년도'])\n",
    "\n",
    "target_count = df[df['target'] == 1].shape[0]\n",
    "target_ex_count = df[df['target'] != 1].shape[0]\n",
    "print(f\"target   count : {target_count} ({ round( target_count/df.shape[0], 4)*100 })%\")\n",
    "print(f\"target외 count : {target_ex_count} ({ round( target_ex_count/df.shape[0], 4)*100 })%\")\n",
    "# shuffle\n",
    "import sklearn\n",
    "df = sklearn.utils.shuffle(df)\n",
    "# df=df.iloc[np.random.permutation(df.index)].reset_index(drop=True)\n",
    "df.to_csv('./data/NHIS_model_1.csv', sep=',', encoding='utf-8', index=False)"
   ]
  },
  {
   "cell_type": "markdown",
   "metadata": {},
   "source": [
    "### clf sampling 2단계 4:1 260만"
   ]
  },
  {
   "cell_type": "code",
   "execution_count": null,
   "metadata": {},
   "outputs": [],
   "source": [
    "df = pd.read_csv('data/NHIS_total_model.csv')\n",
    "df_copy = df\n",
    "df_copy['target'] = df_copy['식전혈당(공복혈당)'].apply(lambda x: 1 if x >= 126 else 0 )\n",
    "df_copy.drop('식전혈당(공복혈당)', axis=1, inplace=True)    \n",
    "# 연령대 코드 --> 연령 decoding 후 drop\n",
    "df_copy['연령'] =df_copy['연령대코드(5세단위)'].apply( lambda x: x*5 + 17 )\n",
    "df_copy.drop('연령대코드(5세단위)', axis=1, inplace=True)\n",
    "\n",
    "# filter\n",
    "target_count = df_copy[ df_copy['target'] == 1 ].shape[0]\n",
    "not_target_count = df_copy[ df_copy['target'] != 1 ].shape[0]\n",
    "\n",
    "# frac 설정 # if (target_count/not_target_count)*4 ==> target 33.3%비율(전체 156만)\n",
    "frac=round( (target_count/not_target_count)*4, 3)  # 4:1 ==> total 260만\n",
    "df_target = df_copy[ df_copy['target'] == 1 ]\n",
    "df_X =  df_copy[ df_copy['target'] != 1 ].sample(frac=frac, random_state=1)\n",
    "\n",
    "# concat\n",
    "df = pd.concat ([df_target, df_X]).sort_values(by=['기준년도'])\n",
    "\n",
    "target_count = df[df['target'] == 1].shape[0]\n",
    "target_ex_count = df[df['target'] != 1].shape[0]\n",
    "print(f\"target   count : {target_count} ({ round( target_count/df.shape[0], 4)*100 })%\")\n",
    "print(f\"target외 count : {target_ex_count} ({ round( target_ex_count/df.shape[0], 4)*100 })%\")\n",
    "# shuffle\n",
    "import sklearn\n",
    "df = sklearn.utils.shuffle(df)\n",
    "# df=df.iloc[np.random.permutation(df.index)].reset_index(drop=True)\n",
    "df.to_csv('./data/NHIS_model_2.csv', sep=',', encoding='utf-8', index=False)"
   ]
  },
  {
   "cell_type": "markdown",
   "metadata": {},
   "source": [
    "### clf sampling 3단계  3:1  208만"
   ]
  },
  {
   "cell_type": "code",
   "execution_count": null,
   "metadata": {},
   "outputs": [],
   "source": [
    "df = pd.read_csv('data/NHIS_total_model.csv')\n",
    "df_copy = df\n",
    "df_copy['target'] = df_copy['식전혈당(공복혈당)'].apply(lambda x: 1 if x >= 126 else 0 )\n",
    "df_copy.drop('식전혈당(공복혈당)', axis=1, inplace=True)    \n",
    "# 연령대 코드 --> 연령 decoding 후 drop\n",
    "df_copy['연령'] =df_copy['연령대코드(5세단위)'].apply( lambda x: x*5 + 17 )\n",
    "df_copy.drop('연령대코드(5세단위)', axis=1, inplace=True)\n",
    "\n",
    "# filter\n",
    "target_count = df_copy[ df_copy['target'] == 1 ].shape[0]\n",
    "not_target_count = df_copy[ df_copy['target'] != 1 ].shape[0]\n",
    "\n",
    "# frac 설정 # if (target_count/not_target_count)*2 ==> target 33.3%비율(전체 156만)\n",
    "frac=round( (target_count/not_target_count)*3, 3)  # 3:1 ==> total 208만\n",
    "df_target = df_copy[ df_copy['target'] == 1 ]\n",
    "df_X =  df_copy[ df_copy['target'] != 1 ].sample(frac=frac, random_state=1)\n",
    "\n",
    "# concat\n",
    "df = pd.concat ([df_target, df_X]).sort_values(by=['기준년도'])\n",
    "\n",
    "target_count = df[df['target'] == 1].shape[0]\n",
    "target_ex_count = df[df['target'] != 1].shape[0]\n",
    "print(f\"target   count : {target_count} ({ round( target_count/df.shape[0], 4)*100 })%\")\n",
    "print(f\"target외 count : {target_ex_count} ({ round( target_ex_count/df.shape[0], 4)*100 })%\")\n",
    "# shuffle\n",
    "import sklearn\n",
    "df = sklearn.utils.shuffle(df)\n",
    "# df=df.iloc[np.random.permutation(df.index)].reset_index(drop=True)\n",
    "df.to_csv('./data/NHIS_model_3.csv', sep=',', encoding='utf-8', index=False)"
   ]
  },
  {
   "cell_type": "markdown",
   "metadata": {},
   "source": [
    "### clf sampling 4단계  2:1  156만"
   ]
  },
  {
   "cell_type": "code",
   "execution_count": null,
   "metadata": {},
   "outputs": [],
   "source": [
    "df = pd.read_csv('data/NHIS_total_model.csv')\n",
    "df_copy = df\n",
    "df_copy['target'] = df_copy['식전혈당(공복혈당)'].apply(lambda x: 1 if x >= 126 else 0 )\n",
    "df_copy.drop('식전혈당(공복혈당)', axis=1, inplace=True)    \n",
    "# 연령대 코드 --> 연령 decoding 후 drop\n",
    "df_copy['연령'] =df_copy['연령대코드(5세단위)'].apply( lambda x: x*5 + 17 )\n",
    "df_copy.drop('연령대코드(5세단위)', axis=1, inplace=True)\n",
    "\n",
    "# filter\n",
    "target_count = df_copy[ df_copy['target'] == 1 ].shape[0]\n",
    "not_target_count = df_copy[ df_copy['target'] != 1 ].shape[0]\n",
    "\n",
    "# frac 설정 # if (target_count/not_target_count)*2 ==> target 33.3%비율(전체 156만)\n",
    "frac=round( (target_count/not_target_count)*2, 3)  \n",
    "df_target = df_copy[ df_copy['target'] == 1 ]\n",
    "df_X =  df_copy[ df_copy['target'] != 1 ].sample(frac=frac, random_state=1)\n",
    "\n",
    "# concat\n",
    "df = pd.concat ([df_target, df_X]).sort_values(by=['기준년도'])\n",
    "\n",
    "target_count = df[df['target'] == 1].shape[0]\n",
    "target_ex_count = df[df['target'] != 1].shape[0]\n",
    "print(f\"target   count : {target_count} ({ round( target_count/df.shape[0], 4)*100 })%\")\n",
    "print(f\"target외 count : {target_ex_count} ({ round( target_ex_count/df.shape[0], 4)*100 })%\")\n",
    "# shuffle\n",
    "import sklearn\n",
    "df = sklearn.utils.shuffle(df)\n",
    "# df=df.iloc[np.random.permutation(df.index)].reset_index(drop=True)\n",
    "df.to_csv('./data/NHIS_model_4.csv', sep=',', encoding='utf-8', index=False)"
   ]
  },
  {
   "cell_type": "code",
   "execution_count": null,
   "metadata": {},
   "outputs": [],
   "source": [
    "## oneHotencoder\n",
    "* 본문에서"
   ]
  },
  {
   "cell_type": "code",
   "execution_count": null,
   "metadata": {},
   "outputs": [],
   "source": [
    "# df_copy.drop(['기준년도','시도코드'], axis=1, inplace=True)    \n",
    "# # 범주형 drop # 범주형 feature 10개\n",
    "# category_features = ['성별코드','청력(좌)','청력(우)', '요단백', '흡연상태', '음주여부', '구강검진수검여부']\n",
    "# df_copy.drop(category_features, axis=1, inplace=True)"
   ]
  },
  {
   "cell_type": "markdown",
   "metadata": {},
   "source": [
    "### Clf feature selection by permutation_importance"
   ]
  },
  {
   "cell_type": "code",
   "execution_count": 52,
   "metadata": {},
   "outputs": [
    {
     "name": "stdout",
     "output_type": "stream",
     "text": [
      "Index(['기준년도', '시도코드', '체중(5Kg단위)', '허리둘레', '시력(좌)', '시력(우)', '수축기혈압', '이완기혈압',\n",
      "       '총콜레스테롤', '트리글리세라이드', 'LDL콜레스테롤', '요단백', '(혈청지오티)AST', '(혈청지오티)ALT',\n",
      "       '감마지티피', 'target', '연령'],\n",
      "      dtype='object')\n",
      "1043612\n"
     ]
    }
   ],
   "source": [
    "df =  pd.read_csv('data/NHIS_model_1.csv')\n",
    "remove_features = ['혈색소', '성별코드', '음주여부', '청력(좌)', '청력(우)', 'HDL콜레스테롤', '구강검진수검여부',\n",
    "       '혈청크레아티닌', '흡연상태', '신장(5Cm단위)']\n",
    "df.drop(remove_features, axis=1, inplace=True)\n",
    "print(df.columns)\n",
    "print(df.shape[0])\n",
    "df.to_csv('./data/NHIS_model_clf_PI_1.csv', sep=',', encoding='utf-8', index=False)"
   ]
  },
  {
   "cell_type": "code",
   "execution_count": null,
   "metadata": {},
   "outputs": [],
   "source": []
  },
  {
   "cell_type": "code",
   "execution_count": null,
   "metadata": {},
   "outputs": [],
   "source": []
  },
  {
   "cell_type": "markdown",
   "metadata": {},
   "source": [
    "## Reg"
   ]
  },
  {
   "cell_type": "markdown",
   "metadata": {},
   "source": [
    "### Reg target 분포 - violinplot "
   ]
  },
  {
   "cell_type": "code",
   "execution_count": 21,
   "metadata": {},
   "outputs": [],
   "source": [
    "df = pd.read_csv('data/NHIS_model_reg_1.csv')"
   ]
  },
  {
   "cell_type": "code",
   "execution_count": 22,
   "metadata": {},
   "outputs": [
    {
     "data": {
      "image/png": "[encoded data removed]",
      "text/plain": [
       "<Figure size 864x288 with 1 Axes>"
      ]
     },
     "metadata": {
      "needs_background": "light"
     },
     "output_type": "display_data"
    }
   ],
   "source": [
    "# violinplot : boxplot + 데이터 분포까지\n",
    "plt.figure(figsize=(12,4))\n",
    "font_name = mpl.font_manager.FontProperties(fname='C:/Windows/Fonts/malgun.ttf').get_name()\n",
    "mpl.rc('font', family=font_name) \n",
    "ax = sns.violinplot(x=df[\"기준년도\"],y=df['target'],data=df,hue=df['성별코드'],split='True',inner=\"quartile\") # inner=\"stick\"\n",
    "ax.set_xticklabels(ax.get_xticklabels(), rotation=45, horizontalalignment='right') \n",
    "plt.title(f'project 기준년도별 성별 식전공복혈당 violinPlot 분포')\n",
    "plt.savefig(f\"./img/violin_plot.png\", bbox_inches='tight') # dpi=100"
   ]
  },
  {
   "cell_type": "code",
   "execution_count": 5,
   "metadata": {},
   "outputs": [],
   "source": [
    "df['target_CAT'] = df['target'].apply(lambda x: 13 if x >= 800 else \n",
    "                                               ( 12 if 700 <= x < 800 else \n",
    "                                               ( 11 if 600 <= x < 700 else \n",
    "                                               ( 10 if 500 <= x < 600 else\n",
    "                                               ( 9 if 400 <= x < 500 else\n",
    "                                               ( 8 if 300 <= x < 400 else\n",
    "                                               ( 7 if 200 <= x < 300 else\n",
    "                                               ( 6 if 126 <= x < 200 else    # 당뇨로 진단\n",
    "                                               ( 5 if 100 <= x < 126 else    # 공복혈당장애 \n",
    "                                               ( 4  if  70 <= x < 100 else   # 정상\n",
    "                                               ( 3  if  50 <= x < 70 else \n",
    "                                               ( 2  if  10 <= x < 50 else  1 )))))))))))\n",
    "                                     \n",
    "                                     )"
   ]
  },
  {
   "cell_type": "code",
   "execution_count": 6,
   "metadata": {},
   "outputs": [
    {
     "data": {
      "text/plain": [
       "4     5317287\n",
       "5     2081331\n",
       "6      445322\n",
       "7       65549\n",
       "3       54487\n",
       "8        9252\n",
       "9        1339\n",
       "2         529\n",
       "10        287\n",
       "11         71\n",
       "12         23\n",
       "13         15\n",
       "Name: target_CAT, dtype: int64"
      ]
     },
     "execution_count": 6,
     "metadata": {},
     "output_type": "execute_result"
    }
   ],
   "source": [
    "df['target_CAT'].value_counts()"
   ]
  },
  {
   "cell_type": "code",
   "execution_count": 7,
   "metadata": {},
   "outputs": [],
   "source": [
    "cat_mapping={\n",
    "            13 : '800over',\n",
    "            12 : '700 ~ 800',\n",
    "            11 : '600 ~ 700', \n",
    "            10 : '500 ~ 600', \n",
    "            9 : '400 ~ 500', \n",
    "            9 : '300 ~ 400', \n",
    "            7 : '200 ~ 300', \n",
    "            6 : '126 ~ 200', # 당뇨로 진단\n",
    "            5 : '100 ~ 126', # 공복혈당장애 \n",
    "            4 : '70 ~ 100',  # 정상\n",
    "            3 : '50 ~ 70', \n",
    "            2 : '10 ~ 50', \n",
    "            1 : '10under' }\n",
    "df['target_CAT_map'] = df['target_CAT'].map(cat_mapping)"
   ]
  },
  {
   "cell_type": "code",
   "execution_count": 8,
   "metadata": {},
   "outputs": [
    {
     "data": {
      "text/plain": [
       "70 ~ 100     5317287\n",
       "100 ~ 126    2081331\n",
       "126 ~ 200     445322\n",
       "200 ~ 300      65549\n",
       "50 ~ 70        54487\n",
       "300 ~ 400       1339\n",
       "10 ~ 50          529\n",
       "500 ~ 600        287\n",
       "600 ~ 700         71\n",
       "700 ~ 800         23\n",
       "800over           15\n",
       "Name: target_CAT_map, dtype: int64"
      ]
     },
     "execution_count": 8,
     "metadata": {},
     "output_type": "execute_result"
    }
   ],
   "source": [
    "df['target_CAT_map'].value_counts()"
   ]
  },
  {
   "cell_type": "code",
   "execution_count": 9,
   "metadata": {},
   "outputs": [
    {
     "data": {
      "image/png": "[encoded data removed]",
      "text/plain": [
       "<Figure size 864x288 with 1 Axes>"
      ]
     },
     "metadata": {
      "needs_background": "light"
     },
     "output_type": "display_data"
    }
   ],
   "source": [
    "df_=df.groupby(['target_CAT','target_CAT_map'])[[ 'target_CAT_map']].count()\n",
    "df_.columns = ['target_count' ]\n",
    "df_ = df_.reset_index()\n",
    "df_ = df_.set_index('target_CAT_map')\n",
    "def Plot(df):\n",
    "    plt.figure(figsize=(12,4))\n",
    "    sns.set(font_scale=0.9)\n",
    "    font_name = mpl.font_manager.FontProperties(fname='C:/Windows/Fonts/malgun.ttf').get_name() # 폴더구분자 python / 임\n",
    "    mpl.rc('font', family=font_name) # ahronbd.ttf\n",
    "       # 한글깨짐 리눅스\n",
    "#     mpl.rcParams['font.family'] = 'NanumGothic'\n",
    "#     mpl.rc('axes', unicode_minus=False)\n",
    "    ax = sns.barplot(x=df_.index, y=df_['target_count'], data=df_)\n",
    "#         start, end = tup\n",
    "#         ax.set_ylim(start, end)\n",
    "    ax.set_xticklabels(ax.get_xticklabels(), rotation=45, horizontalalignment='right') \n",
    "    ax.set_xlabel('식전공복혈당')\n",
    "    plt.title(f'식전공복혈당 분포 count ')\n",
    "#     plt.savefig(f\"./img/visual/age.png\",dpi=150, bbox_inches='tight')\n",
    "    plt.show()\n",
    "    #     plt.close()\n",
    "Plot(df_)"
   ]
  },
  {
   "cell_type": "markdown",
   "metadata": {},
   "source": [
    "### Reg target outlier remove"
   ]
  },
  {
   "cell_type": "code",
   "execution_count": 11,
   "metadata": {},
   "outputs": [
    {
     "data": {
      "text/plain": [
       "7975492"
      ]
     },
     "execution_count": 11,
     "metadata": {},
     "output_type": "execute_result"
    }
   ],
   "source": [
    "df.shape[0]"
   ]
  },
  {
   "cell_type": "code",
   "execution_count": 10,
   "metadata": {},
   "outputs": [
    {
     "name": "stdout",
     "output_type": "stream",
     "text": [
      "7973228\n"
     ]
    }
   ],
   "source": [
    "remove_cat = ['300 ~ 400', '10 ~ 50', '500 ~ 600', '600 ~ 700', '700 ~ 800', '800over']\n",
    "for cat in remove_cat:\n",
    "    df = df[ df['target_CAT_map'] != cat ]\n",
    "print(df.shape[0])"
   ]
  },
  {
   "cell_type": "code",
   "execution_count": 11,
   "metadata": {},
   "outputs": [],
   "source": [
    "df['target_dist'] = df['target'].map(lambda x:  1 if x >= 126 else 0)"
   ]
  },
  {
   "cell_type": "code",
   "execution_count": 12,
   "metadata": {
    "scrolled": true
   },
   "outputs": [
    {
     "name": "stdout",
     "output_type": "stream",
     "text": [
      "정상(target < 126 ) 93.48%\n",
      "당뇨(target >= 126 ) 6.52%\n"
     ]
    }
   ],
   "source": [
    "tmp_lst=df['target_dist'].value_counts().values\n",
    "print(f'정상(target < 126 ) {np.round((tmp_lst[0]/tmp_lst.sum())*100, 2)}%')\n",
    "print(f'당뇨(target >= 126 ) {np.round((tmp_lst[1]/tmp_lst.sum())*100, 2)}%')\n",
    "# 6.54% ---> 6.52%"
   ]
  },
  {
   "cell_type": "code",
   "execution_count": 13,
   "metadata": {},
   "outputs": [
    {
     "data": {
      "text/plain": [
       "Index(['기준년도', '성별코드', '시도코드', '신장(5Cm단위)', '체중(5Kg단위)', '허리둘레', '시력(좌)',\n",
       "       '시력(우)', '청력(좌)', '청력(우)', '수축기혈압', '이완기혈압', '총콜레스테롤', '트리글리세라이드',\n",
       "       'HDL콜레스테롤', 'LDL콜레스테롤', '혈색소', '요단백', '혈청크레아티닌', '(혈청지오티)AST',\n",
       "       '(혈청지오티)ALT', '감마지티피', '흡연상태', '음주여부', '구강검진수검여부', 'target', '연령',\n",
       "       'target_CAT', 'target_CAT_map', 'target_dist'],\n",
       "      dtype='object')"
      ]
     },
     "execution_count": 13,
     "metadata": {},
     "output_type": "execute_result"
    }
   ],
   "source": [
    "df.columns"
   ]
  },
  {
   "cell_type": "code",
   "execution_count": 14,
   "metadata": {},
   "outputs": [],
   "source": [
    "df.drop(['target_CAT','target_CAT_map','target_dist'], axis=1, inplace=True)"
   ]
  },
  {
   "cell_type": "code",
   "execution_count": 34,
   "metadata": {},
   "outputs": [],
   "source": [
    "df.to_csv('./data/NHIS_model_reg_2.csv', sep=',', encoding='utf-8', index=False)"
   ]
  },
  {
   "cell_type": "code",
   "execution_count": null,
   "metadata": {},
   "outputs": [],
   "source": []
  },
  {
   "cell_type": "markdown",
   "metadata": {},
   "source": [
    "### Reg target Log 변환"
   ]
  },
  {
   "cell_type": "code",
   "execution_count": 15,
   "metadata": {},
   "outputs": [
    {
     "data": {
      "text/plain": [
       "[Text(0, 0, '2009'),\n",
       " Text(1, 0, '2010'),\n",
       " Text(2, 0, '2011'),\n",
       " Text(3, 0, '2012'),\n",
       " Text(4, 0, '2013'),\n",
       " Text(5, 0, '2014'),\n",
       " Text(6, 0, '2015'),\n",
       " Text(7, 0, '2017'),\n",
       " Text(8, 0, '2018')]"
      ]
     },
     "execution_count": 15,
     "metadata": {},
     "output_type": "execute_result"
    },
    {
     "data": {
      "image/png": "[encoded data removed]",
      "text/plain": [
       "<Figure size 864x288 with 1 Axes>"
      ]
     },
     "metadata": {},
     "output_type": "display_data"
    }
   ],
   "source": [
    "df['target'] = np.log1p(df['target'])\n",
    "plt.figure(figsize=(12,4))\n",
    "font_name = mpl.font_manager.FontProperties(fname='C:/Windows/Fonts/malgun.ttf').get_name()\n",
    "mpl.rc('font', family=font_name) \n",
    "ax = sns.violinplot(x=df[\"기준년도\"], y=df['target'], data=df, hue=df['성별코드'], split='True', inner=\"quartile\")\n",
    "ax.set_xticklabels(ax.get_xticklabels(), rotation=45, horizontalalignment='right') "
   ]
  },
  {
   "cell_type": "code",
   "execution_count": null,
   "metadata": {},
   "outputs": [],
   "source": [
    "## 시간 오래걸림\n",
    "# df_target = pd.Series(df['target'])\n",
    "# ax = sns.barplot(x=df_target.index, y=df_target )\n",
    "# ax.set_xticklabels(ax.get_xticklabels(), rotation=45, horizontalalignment='right') "
   ]
  },
  {
   "cell_type": "markdown",
   "metadata": {},
   "source": [
    "### Reg 상관관계 corr"
   ]
  },
  {
   "cell_type": "markdown",
   "metadata": {},
   "source": [
    "### Reg 다중공선선 확인 VIF"
   ]
  },
  {
   "cell_type": "code",
   "execution_count": 20,
   "metadata": {},
   "outputs": [
    {
     "data": {
      "text/html": [
       "<div>\n",
       "<style scoped>\n",
       "    .dataframe tbody tr th:only-of-type {\n",
       "        vertical-align: middle;\n",
       "    }\n",
       "\n",
       "    .dataframe tbody tr th {\n",
       "        vertical-align: top;\n",
       "    }\n",
       "\n",
       "    .dataframe thead th {\n",
       "        text-align: right;\n",
       "    }\n",
       "</style>\n",
       "<table border=\"1\" class=\"dataframe\">\n",
       "  <thead>\n",
       "    <tr style=\"text-align: right;\">\n",
       "      <th></th>\n",
       "      <th>VIF Factor</th>\n",
       "      <th>features</th>\n",
       "    </tr>\n",
       "  </thead>\n",
       "  <tbody>\n",
       "    <tr>\n",
       "      <th>0</th>\n",
       "      <td>1831.7</td>\n",
       "      <td>기준년도</td>\n",
       "    </tr>\n",
       "    <tr>\n",
       "      <th>1</th>\n",
       "      <td>34.8</td>\n",
       "      <td>성별코드</td>\n",
       "    </tr>\n",
       "    <tr>\n",
       "      <th>2</th>\n",
       "      <td>7.9</td>\n",
       "      <td>시도코드</td>\n",
       "    </tr>\n",
       "    <tr>\n",
       "      <th>3</th>\n",
       "      <td>1106.8</td>\n",
       "      <td>신장(5Cm단위)</td>\n",
       "    </tr>\n",
       "    <tr>\n",
       "      <th>4</th>\n",
       "      <td>152.7</td>\n",
       "      <td>체중(5Kg단위)</td>\n",
       "    </tr>\n",
       "    <tr>\n",
       "      <th>5</th>\n",
       "      <td>277.1</td>\n",
       "      <td>허리둘레</td>\n",
       "    </tr>\n",
       "    <tr>\n",
       "      <th>6</th>\n",
       "      <td>19.0</td>\n",
       "      <td>시력(좌)</td>\n",
       "    </tr>\n",
       "    <tr>\n",
       "      <th>7</th>\n",
       "      <td>19.1</td>\n",
       "      <td>시력(우)</td>\n",
       "    </tr>\n",
       "    <tr>\n",
       "      <th>8</th>\n",
       "      <td>56.6</td>\n",
       "      <td>청력(좌)</td>\n",
       "    </tr>\n",
       "    <tr>\n",
       "      <th>9</th>\n",
       "      <td>59.0</td>\n",
       "      <td>청력(우)</td>\n",
       "    </tr>\n",
       "    <tr>\n",
       "      <th>10</th>\n",
       "      <td>177.5</td>\n",
       "      <td>수축기혈압</td>\n",
       "    </tr>\n",
       "    <tr>\n",
       "      <th>11</th>\n",
       "      <td>145.1</td>\n",
       "      <td>이완기혈압</td>\n",
       "    </tr>\n",
       "    <tr>\n",
       "      <th>12</th>\n",
       "      <td>171.8</td>\n",
       "      <td>총콜레스테롤</td>\n",
       "    </tr>\n",
       "    <tr>\n",
       "      <th>13</th>\n",
       "      <td>6.3</td>\n",
       "      <td>트리글리세라이드</td>\n",
       "    </tr>\n",
       "    <tr>\n",
       "      <th>14</th>\n",
       "      <td>17.1</td>\n",
       "      <td>HDL콜레스테롤</td>\n",
       "    </tr>\n",
       "    <tr>\n",
       "      <th>15</th>\n",
       "      <td>58.6</td>\n",
       "      <td>LDL콜레스테롤</td>\n",
       "    </tr>\n",
       "    <tr>\n",
       "      <th>16</th>\n",
       "      <td>154.0</td>\n",
       "      <td>혈색소</td>\n",
       "    </tr>\n",
       "    <tr>\n",
       "      <th>17</th>\n",
       "      <td>8.3</td>\n",
       "      <td>요단백</td>\n",
       "    </tr>\n",
       "    <tr>\n",
       "      <th>18</th>\n",
       "      <td>13.7</td>\n",
       "      <td>혈청크레아티닌</td>\n",
       "    </tr>\n",
       "    <tr>\n",
       "      <th>19</th>\n",
       "      <td>10.0</td>\n",
       "      <td>(혈청지오티)AST</td>\n",
       "    </tr>\n",
       "    <tr>\n",
       "      <th>20</th>\n",
       "      <td>6.9</td>\n",
       "      <td>(혈청지오티)ALT</td>\n",
       "    </tr>\n",
       "    <tr>\n",
       "      <th>21</th>\n",
       "      <td>2.7</td>\n",
       "      <td>감마지티피</td>\n",
       "    </tr>\n",
       "    <tr>\n",
       "      <th>22</th>\n",
       "      <td>7.9</td>\n",
       "      <td>흡연상태</td>\n",
       "    </tr>\n",
       "    <tr>\n",
       "      <th>23</th>\n",
       "      <td>2.2</td>\n",
       "      <td>음주여부</td>\n",
       "    </tr>\n",
       "    <tr>\n",
       "      <th>24</th>\n",
       "      <td>1.7</td>\n",
       "      <td>구강검진수검여부</td>\n",
       "    </tr>\n",
       "    <tr>\n",
       "      <th>25</th>\n",
       "      <td>15.2</td>\n",
       "      <td>연령</td>\n",
       "    </tr>\n",
       "  </tbody>\n",
       "</table>\n",
       "</div>"
      ],
      "text/plain": [
       "    VIF Factor    features\n",
       "0       1831.7        기준년도\n",
       "1         34.8        성별코드\n",
       "2          7.9        시도코드\n",
       "3       1106.8   신장(5Cm단위)\n",
       "4        152.7   체중(5Kg단위)\n",
       "5        277.1        허리둘레\n",
       "6         19.0       시력(좌)\n",
       "7         19.1       시력(우)\n",
       "8         56.6       청력(좌)\n",
       "9         59.0       청력(우)\n",
       "10       177.5       수축기혈압\n",
       "11       145.1       이완기혈압\n",
       "12       171.8      총콜레스테롤\n",
       "13         6.3    트리글리세라이드\n",
       "14        17.1    HDL콜레스테롤\n",
       "15        58.6    LDL콜레스테롤\n",
       "16       154.0         혈색소\n",
       "17         8.3         요단백\n",
       "18        13.7     혈청크레아티닌\n",
       "19        10.0  (혈청지오티)AST\n",
       "20         6.9  (혈청지오티)ALT\n",
       "21         2.7       감마지티피\n",
       "22         7.9        흡연상태\n",
       "23         2.2        음주여부\n",
       "24         1.7    구강검진수검여부\n",
       "25        15.2          연령"
      ]
     },
     "execution_count": 20,
     "metadata": {},
     "output_type": "execute_result"
    }
   ],
   "source": [
    "df = pd.read_csv('data/NHIS_model_reg_2.csv')\n",
    "y_target = df['target']\n",
    "X_features = df.drop(['target'], axis=1,inplace=False)\n",
    "\n",
    "from statsmodels.stats.outliers_influence import variance_inflation_factor\n",
    "# 피처마다의 VIF(분산팽창요인, Variance Inflation Factor) 계수를 출력합니다.\n",
    "# VIF계수가 10 ~ 15 정도를 넘으면 다중 공선성의 문제가 발생했다고 판단\n",
    "vif = pd.DataFrame()\n",
    "vif[\"VIF Factor\"] = [variance_inflation_factor(X_features.values, i) for i in range(X_features.shape[1])]\n",
    "vif[\"features\"] = X_features.columns\n",
    "vif.round(1)"
   ]
  },
  {
   "cell_type": "markdown",
   "metadata": {},
   "source": [
    "### Reg VIF 임계값 설정 feature selection"
   ]
  },
  {
   "cell_type": "code",
   "execution_count": 21,
   "metadata": {},
   "outputs": [
    {
     "name": "stdout",
     "output_type": "stream",
     "text": [
      "    VIF Factor   features\n",
      "0       1831.7       기준년도\n",
      "1         34.8       성별코드\n",
      "3       1106.8  신장(5Cm단위)\n",
      "4        152.7  체중(5Kg단위)\n",
      "5        277.1       허리둘레\n",
      "8         56.6      청력(좌)\n",
      "9         59.0      청력(우)\n",
      "10       177.5      수축기혈압\n",
      "11       145.1      이완기혈압\n",
      "12       171.8     총콜레스테롤\n",
      "15        58.6   LDL콜레스테롤\n",
      "16       154.0        혈색소\n"
     ]
    },
    {
     "data": {
      "text/plain": [
       "array(['기준년도', '성별코드', '신장(5Cm단위)', '체중(5Kg단위)', '허리둘레', '청력(좌)', '청력(우)',\n",
       "       '수축기혈압', '이완기혈압', '총콜레스테롤', 'LDL콜레스테롤', '혈색소'], dtype=object)"
      ]
     },
     "execution_count": 21,
     "metadata": {},
     "output_type": "execute_result"
    }
   ],
   "source": [
    "vif_remove = vif[ vif[\"VIF Factor\"] > 20 ]\n",
    "print(vif_remove.round(1))\n",
    "vif_remove['features'].values"
   ]
  },
  {
   "cell_type": "code",
   "execution_count": 23,
   "metadata": {},
   "outputs": [
    {
     "name": "stdout",
     "output_type": "stream",
     "text": [
      "7973228\n",
      "7973228\n"
     ]
    }
   ],
   "source": [
    "df = pd.read_csv('data/NHIS_model_reg_2.csv')\n",
    "print(df.shape[0])\n",
    "vif_remove_features = vif_remove['features'].values\n",
    "df.drop(vif_remove_features, axis=1, inplace=True)\n",
    "print(df.shape[0])\n",
    "df.to_csv('./data/NHIS_model_reg_3_vif.csv', sep=',', encoding='utf-8', index=False)"
   ]
  },
  {
   "cell_type": "markdown",
   "metadata": {},
   "source": [
    "### Clf 분산분석 ANOVA F-TEST이용한 feature selection\n",
    "* numeric input and categorical output\n",
    "* https://machinelearningmastery.com/feature-selection-with-real-and-categorical-data/"
   ]
  },
  {
   "cell_type": "code",
   "execution_count": 4,
   "metadata": {},
   "outputs": [],
   "source": [
    "df = pd.read_csv('data/NHIS_model_reg_2.csv')\n",
    "df['target_'] = df['target'].map(lambda x:  1 if x >= 126 else 0)\n",
    "y_target = df['target_']\n",
    "X_features = df.drop(['target','target_'], axis=1,inplace=False)"
   ]
  },
  {
   "cell_type": "code",
   "execution_count": 5,
   "metadata": {},
   "outputs": [],
   "source": [
    "from sklearn.feature_selection import f_classif\n",
    "[f_stat, f_p_value] = f_classif(X_features, y_target)"
   ]
  },
  {
   "cell_type": "code",
   "execution_count": 6,
   "metadata": {},
   "outputs": [
    {
     "data": {
      "text/html": [
       "<div>\n",
       "<style scoped>\n",
       "    .dataframe tbody tr th:only-of-type {\n",
       "        vertical-align: middle;\n",
       "    }\n",
       "\n",
       "    .dataframe tbody tr th {\n",
       "        vertical-align: top;\n",
       "    }\n",
       "\n",
       "    .dataframe thead th {\n",
       "        text-align: right;\n",
       "    }\n",
       "</style>\n",
       "<table border=\"1\" class=\"dataframe\">\n",
       "  <thead>\n",
       "    <tr style=\"text-align: right;\">\n",
       "      <th></th>\n",
       "      <th>Feature</th>\n",
       "      <th>F statistic</th>\n",
       "      <th>p value</th>\n",
       "    </tr>\n",
       "  </thead>\n",
       "  <tbody>\n",
       "    <tr>\n",
       "      <th>0</th>\n",
       "      <td>기준년도</td>\n",
       "      <td>4541.326244</td>\n",
       "      <td>0.000000e+00</td>\n",
       "    </tr>\n",
       "    <tr>\n",
       "      <th>22</th>\n",
       "      <td>흡연상태</td>\n",
       "      <td>12031.824157</td>\n",
       "      <td>0.000000e+00</td>\n",
       "    </tr>\n",
       "    <tr>\n",
       "      <th>21</th>\n",
       "      <td>감마지티피</td>\n",
       "      <td>139311.115914</td>\n",
       "      <td>0.000000e+00</td>\n",
       "    </tr>\n",
       "    <tr>\n",
       "      <th>20</th>\n",
       "      <td>(혈청지오티)ALT</td>\n",
       "      <td>79646.270693</td>\n",
       "      <td>0.000000e+00</td>\n",
       "    </tr>\n",
       "    <tr>\n",
       "      <th>19</th>\n",
       "      <td>(혈청지오티)AST</td>\n",
       "      <td>49120.440593</td>\n",
       "      <td>0.000000e+00</td>\n",
       "    </tr>\n",
       "    <tr>\n",
       "      <th>18</th>\n",
       "      <td>혈청크레아티닌</td>\n",
       "      <td>10122.896417</td>\n",
       "      <td>0.000000e+00</td>\n",
       "    </tr>\n",
       "    <tr>\n",
       "      <th>17</th>\n",
       "      <td>요단백</td>\n",
       "      <td>74321.138028</td>\n",
       "      <td>0.000000e+00</td>\n",
       "    </tr>\n",
       "    <tr>\n",
       "      <th>16</th>\n",
       "      <td>혈색소</td>\n",
       "      <td>13742.652880</td>\n",
       "      <td>0.000000e+00</td>\n",
       "    </tr>\n",
       "    <tr>\n",
       "      <th>15</th>\n",
       "      <td>LDL콜레스테롤</td>\n",
       "      <td>6484.929687</td>\n",
       "      <td>0.000000e+00</td>\n",
       "    </tr>\n",
       "    <tr>\n",
       "      <th>14</th>\n",
       "      <td>HDL콜레스테롤</td>\n",
       "      <td>36945.005814</td>\n",
       "      <td>0.000000e+00</td>\n",
       "    </tr>\n",
       "    <tr>\n",
       "      <th>13</th>\n",
       "      <td>트리글리세라이드</td>\n",
       "      <td>159863.872977</td>\n",
       "      <td>0.000000e+00</td>\n",
       "    </tr>\n",
       "    <tr>\n",
       "      <th>24</th>\n",
       "      <td>구강검진수검여부</td>\n",
       "      <td>11345.619785</td>\n",
       "      <td>0.000000e+00</td>\n",
       "    </tr>\n",
       "    <tr>\n",
       "      <th>25</th>\n",
       "      <td>연령</td>\n",
       "      <td>154981.276299</td>\n",
       "      <td>0.000000e+00</td>\n",
       "    </tr>\n",
       "    <tr>\n",
       "      <th>10</th>\n",
       "      <td>수축기혈압</td>\n",
       "      <td>121620.786674</td>\n",
       "      <td>0.000000e+00</td>\n",
       "    </tr>\n",
       "    <tr>\n",
       "      <th>9</th>\n",
       "      <td>청력(우)</td>\n",
       "      <td>7172.819304</td>\n",
       "      <td>0.000000e+00</td>\n",
       "    </tr>\n",
       "    <tr>\n",
       "      <th>8</th>\n",
       "      <td>청력(좌)</td>\n",
       "      <td>7478.869782</td>\n",
       "      <td>0.000000e+00</td>\n",
       "    </tr>\n",
       "    <tr>\n",
       "      <th>7</th>\n",
       "      <td>시력(우)</td>\n",
       "      <td>49749.557508</td>\n",
       "      <td>0.000000e+00</td>\n",
       "    </tr>\n",
       "    <tr>\n",
       "      <th>6</th>\n",
       "      <td>시력(좌)</td>\n",
       "      <td>50668.605079</td>\n",
       "      <td>0.000000e+00</td>\n",
       "    </tr>\n",
       "    <tr>\n",
       "      <th>5</th>\n",
       "      <td>허리둘레</td>\n",
       "      <td>187094.272135</td>\n",
       "      <td>0.000000e+00</td>\n",
       "    </tr>\n",
       "    <tr>\n",
       "      <th>4</th>\n",
       "      <td>체중(5Kg단위)</td>\n",
       "      <td>43582.392554</td>\n",
       "      <td>0.000000e+00</td>\n",
       "    </tr>\n",
       "    <tr>\n",
       "      <th>1</th>\n",
       "      <td>성별코드</td>\n",
       "      <td>27559.541660</td>\n",
       "      <td>0.000000e+00</td>\n",
       "    </tr>\n",
       "    <tr>\n",
       "      <th>11</th>\n",
       "      <td>이완기혈압</td>\n",
       "      <td>54692.336876</td>\n",
       "      <td>0.000000e+00</td>\n",
       "    </tr>\n",
       "    <tr>\n",
       "      <th>3</th>\n",
       "      <td>신장(5Cm단위)</td>\n",
       "      <td>834.539651</td>\n",
       "      <td>1.706951e-183</td>\n",
       "    </tr>\n",
       "    <tr>\n",
       "      <th>2</th>\n",
       "      <td>시도코드</td>\n",
       "      <td>731.321514</td>\n",
       "      <td>4.700536e-161</td>\n",
       "    </tr>\n",
       "    <tr>\n",
       "      <th>12</th>\n",
       "      <td>총콜레스테롤</td>\n",
       "      <td>25.745812</td>\n",
       "      <td>3.894800e-07</td>\n",
       "    </tr>\n",
       "    <tr>\n",
       "      <th>23</th>\n",
       "      <td>음주여부</td>\n",
       "      <td>3.766695</td>\n",
       "      <td>5.228288e-02</td>\n",
       "    </tr>\n",
       "  </tbody>\n",
       "</table>\n",
       "</div>"
      ],
      "text/plain": [
       "       Feature    F statistic        p value\n",
       "0         기준년도    4541.326244   0.000000e+00\n",
       "22        흡연상태   12031.824157   0.000000e+00\n",
       "21       감마지티피  139311.115914   0.000000e+00\n",
       "20  (혈청지오티)ALT   79646.270693   0.000000e+00\n",
       "19  (혈청지오티)AST   49120.440593   0.000000e+00\n",
       "18     혈청크레아티닌   10122.896417   0.000000e+00\n",
       "17         요단백   74321.138028   0.000000e+00\n",
       "16         혈색소   13742.652880   0.000000e+00\n",
       "15    LDL콜레스테롤    6484.929687   0.000000e+00\n",
       "14    HDL콜레스테롤   36945.005814   0.000000e+00\n",
       "13    트리글리세라이드  159863.872977   0.000000e+00\n",
       "24    구강검진수검여부   11345.619785   0.000000e+00\n",
       "25          연령  154981.276299   0.000000e+00\n",
       "10       수축기혈압  121620.786674   0.000000e+00\n",
       "9        청력(우)    7172.819304   0.000000e+00\n",
       "8        청력(좌)    7478.869782   0.000000e+00\n",
       "7        시력(우)   49749.557508   0.000000e+00\n",
       "6        시력(좌)   50668.605079   0.000000e+00\n",
       "5         허리둘레  187094.272135   0.000000e+00\n",
       "4    체중(5Kg단위)   43582.392554   0.000000e+00\n",
       "1         성별코드   27559.541660   0.000000e+00\n",
       "11       이완기혈압   54692.336876   0.000000e+00\n",
       "3    신장(5Cm단위)     834.539651  1.706951e-183\n",
       "2         시도코드     731.321514  4.700536e-161\n",
       "12      총콜레스테롤      25.745812   3.894800e-07\n",
       "23        음주여부       3.766695   5.228288e-02"
      ]
     },
     "execution_count": 6,
     "metadata": {},
     "output_type": "execute_result"
    }
   ],
   "source": [
    "f_test_df = pd.DataFrame({'Feature':X_features.columns,\n",
    "                            'F statistic':f_stat,\n",
    "                            'p value':f_p_value})\n",
    "f_test_df.sort_values('p value')\n",
    "# p value값이 0.05이하이면 "
   ]
  },
  {
   "cell_type": "code",
   "execution_count": 42,
   "metadata": {},
   "outputs": [
    {
     "data": {
      "text/plain": [
       "['허리둘레', '수축기혈압', '트리글리세라이드', '감마지티피', '연령', 'target_']"
      ]
     },
     "execution_count": 42,
     "metadata": {},
     "output_type": "execute_result"
    }
   ],
   "source": [
    "from sklearn.feature_selection import SelectPercentile\n",
    "selector = SelectPercentile(f_classif, percentile=20) \n",
    "selector.fit(X_features, y_target)\n",
    "best_feature_ix = selector.get_support()\n",
    "best_features = [X_features.columns[counter] for counter in range(len(X_features.columns)) if best_feature_ix[counter]]\n",
    "best_features"
   ]
  },
  {
   "cell_type": "markdown",
   "metadata": {},
   "source": [
    "### Reg pearson's correlation feature selection for numeric input and numeric output"
   ]
  },
  {
   "cell_type": "code",
   "execution_count": 25,
   "metadata": {},
   "outputs": [
    {
     "data": {
      "text/plain": [
       "['성별코드',\n",
       " '체중(5Kg단위)',\n",
       " '허리둘레',\n",
       " '시력(좌)',\n",
       " '시력(우)',\n",
       " '수축기혈압',\n",
       " '이완기혈압',\n",
       " '트리글리세라이드',\n",
       " '요단백',\n",
       " '(혈청지오티)AST',\n",
       " '(혈청지오티)ALT',\n",
       " '감마지티피',\n",
       " '연령']"
      ]
     },
     "execution_count": 25,
     "metadata": {},
     "output_type": "execute_result"
    }
   ],
   "source": [
    "df = pd.read_csv('data/NHIS_model_reg_2.csv')\n",
    "y_target = df['target']\n",
    "X_features = df.drop(['target'], axis=1,inplace=False)\n",
    "# X_train, X_test, y_train, y_test = train_test_split(X_features, y_target, test_size=0.3, random_state=156)\n",
    "\n",
    "from sklearn.feature_selection import SelectPercentile\n",
    "from sklearn.feature_selection import f_regression\n",
    "selector = SelectPercentile(f_regression, percentile=50) \n",
    "selector.fit(X_features, y_target)\n",
    "best_feature_ix = selector.get_support()\n",
    "best_features = [X_features.columns[counter] for counter in range(len(X_features.columns)) if best_feature_ix[counter]]\n",
    "best_features"
   ]
  },
  {
   "cell_type": "code",
   "execution_count": 29,
   "metadata": {},
   "outputs": [
    {
     "name": "stdout",
     "output_type": "stream",
     "text": [
      "Index(['성별코드', '체중(5Kg단위)', '허리둘레', '시력(좌)', '시력(우)', '수축기혈압', '이완기혈압',\n",
      "       '트리글리세라이드', '요단백', '(혈청지오티)AST', '(혈청지오티)ALT', '감마지티피', '연령', 'target'],\n",
      "      dtype='object')\n"
     ]
    }
   ],
   "source": [
    "df= df[best_features]\n",
    "df['target'] = y_target\n",
    "print(df.columns)\n",
    "df.to_csv('./data/NHIS_model_reg_4_corr.csv', sep=',', encoding='utf-8', index=False)"
   ]
  },
  {
   "cell_type": "code",
   "execution_count": 41,
   "metadata": {},
   "outputs": [
    {
     "name": "stdout",
     "output_type": "stream",
     "text": [
      "(7975492, 15)\n"
     ]
    },
    {
     "data": {
      "text/plain": [
       "array([[  2. ,  40. ,  62. ,   1. ,   1. , 110. ,  70. ,  41. ,  76. ,\n",
       "         12.9,   1. ,  22. ,  24. ,  11. ,  22. ],\n",
       "       [  2. ,  40. ,  67. ,   1.2,   1.2, 113. ,  61. ,  59. ,  55. ,\n",
       "         13.5,   1. ,  22. ,  16. ,  12. ,  22. ],\n",
       "       [  2. ,  45. ,  64. ,   1.5,   1.5, 110. ,  70. ,  82. ,  57. ,\n",
       "         12.8,   1. ,  21. ,  12. ,  10. ,  22. ]])"
      ]
     },
     "execution_count": 41,
     "metadata": {},
     "output_type": "execute_result"
    }
   ],
   "source": [
    "# df = pd.read_csv('data/NHIS_model_reg_2.csv')\n",
    "# y_target = df['target']\n",
    "# X_features = df.drop(['target'], axis=1,inplace=False)\n",
    "# # X_train, X_test, y_train, y_test = train_test_split(X_features, y_target, test_size=0.3, random_state=156)\n",
    "\n",
    "# # X_features = pd.get_dummies(X_features)\n",
    "# # define feature selection\n",
    "# from sklearn.feature_selection import SelectKBest\n",
    "# from sklearn.feature_selection import f_regression\n",
    "# fs = SelectKBest(score_func=f_regression, k=)\n",
    "# # apply feature selection\n",
    "# X_selected = fs.fit_transform(X_features, y_target)\n",
    "# print(X_selected.shape)\n",
    "# X_temp = X_selected[:3]\n",
    "# X_temp"
   ]
  },
  {
   "cell_type": "code",
   "execution_count": null,
   "metadata": {},
   "outputs": [],
   "source": []
  },
  {
   "cell_type": "markdown",
   "metadata": {},
   "source": [
    "### Reg statsmodels"
   ]
  },
  {
   "cell_type": "code",
   "execution_count": 8,
   "metadata": {},
   "outputs": [],
   "source": [
    "df = pd.read_csv('data/NHIS_model_reg_2.csv')\n",
    "y_target = df['target']\n",
    "X_features = df.drop(['target'], axis=1,inplace=False)\n",
    "X_train, X_test, y_train, y_test = train_test_split(X_features, y_target, test_size=0.3, random_state=156)"
   ]
  },
  {
   "cell_type": "code",
   "execution_count": 9,
   "metadata": {},
   "outputs": [
    {
     "data": {
      "text/html": [
       "<table class=\"simpletable\">\n",
       "<caption>OLS Regression Results</caption>\n",
       "<tr>\n",
       "  <th>Dep. Variable:</th>            <td>y</td>        <th>  R-squared:         </th>  <td>   0.116</td>  \n",
       "</tr>\n",
       "<tr>\n",
       "  <th>Model:</th>                   <td>OLS</td>       <th>  Adj. R-squared:    </th>  <td>   0.116</td>  \n",
       "</tr>\n",
       "<tr>\n",
       "  <th>Method:</th>             <td>Least Squares</td>  <th>  F-statistic:       </th>  <td>2.817e+04</td> \n",
       "</tr>\n",
       "<tr>\n",
       "  <th>Date:</th>             <td>Mon, 30 Nov 2020</td> <th>  Prob (F-statistic):</th>   <td>  0.00</td>   \n",
       "</tr>\n",
       "<tr>\n",
       "  <th>Time:</th>                 <td>15:45:00</td>     <th>  Log-Likelihood:    </th> <td>-2.5009e+07</td>\n",
       "</tr>\n",
       "<tr>\n",
       "  <th>No. Observations:</th>      <td>5581259</td>     <th>  AIC:               </th>  <td>5.002e+07</td> \n",
       "</tr>\n",
       "<tr>\n",
       "  <th>Df Residuals:</th>          <td>5581232</td>     <th>  BIC:               </th>  <td>5.002e+07</td> \n",
       "</tr>\n",
       "<tr>\n",
       "  <th>Df Model:</th>              <td>    26</td>      <th>                     </th>      <td> </td>     \n",
       "</tr>\n",
       "<tr>\n",
       "  <th>Covariance Type:</th>      <td>nonrobust</td>    <th>                     </th>      <td> </td>     \n",
       "</tr>\n",
       "</table>\n",
       "<table class=\"simpletable\">\n",
       "<tr>\n",
       "    <td></td>       <th>coef</th>     <th>std err</th>      <th>t</th>      <th>P>|t|</th>  <th>[0.025</th>    <th>0.975]</th>  \n",
       "</tr>\n",
       "<tr>\n",
       "  <th>const</th> <td>  606.2170</td> <td>    9.171</td> <td>   66.105</td> <td> 0.000</td> <td>  588.243</td> <td>  624.191</td>\n",
       "</tr>\n",
       "<tr>\n",
       "  <th>x1</th>    <td>   -0.2722</td> <td>    0.005</td> <td>  -59.352</td> <td> 0.000</td> <td>   -0.281</td> <td>   -0.263</td>\n",
       "</tr>\n",
       "<tr>\n",
       "  <th>x2</th>    <td>   -1.1674</td> <td>    0.035</td> <td>  -33.435</td> <td> 0.000</td> <td>   -1.236</td> <td>   -1.099</td>\n",
       "</tr>\n",
       "<tr>\n",
       "  <th>x3</th>    <td>    0.0123</td> <td>    0.001</td> <td>   17.290</td> <td> 0.000</td> <td>    0.011</td> <td>    0.014</td>\n",
       "</tr>\n",
       "<tr>\n",
       "  <th>x4</th>    <td>   -0.0491</td> <td>    0.002</td> <td>  -26.551</td> <td> 0.000</td> <td>   -0.053</td> <td>   -0.045</td>\n",
       "</tr>\n",
       "<tr>\n",
       "  <th>x5</th>    <td>   -0.0393</td> <td>    0.002</td> <td>  -22.405</td> <td> 0.000</td> <td>   -0.043</td> <td>   -0.036</td>\n",
       "</tr>\n",
       "<tr>\n",
       "  <th>x6</th>    <td>    0.2556</td> <td>    0.002</td> <td>  135.019</td> <td> 0.000</td> <td>    0.252</td> <td>    0.259</td>\n",
       "</tr>\n",
       "<tr>\n",
       "  <th>x7</th>    <td>   -1.3394</td> <td>    0.039</td> <td>  -34.506</td> <td> 0.000</td> <td>   -1.416</td> <td>   -1.263</td>\n",
       "</tr>\n",
       "<tr>\n",
       "  <th>x8</th>    <td>   -1.4993</td> <td>    0.039</td> <td>  -38.475</td> <td> 0.000</td> <td>   -1.576</td> <td>   -1.423</td>\n",
       "</tr>\n",
       "<tr>\n",
       "  <th>x9</th>    <td>    0.1107</td> <td>    0.065</td> <td>    1.690</td> <td> 0.091</td> <td>   -0.018</td> <td>    0.239</td>\n",
       "</tr>\n",
       "<tr>\n",
       "  <th>x10</th>   <td>    0.1195</td> <td>    0.067</td> <td>    1.785</td> <td> 0.074</td> <td>   -0.012</td> <td>    0.251</td>\n",
       "</tr>\n",
       "<tr>\n",
       "  <th>x11</th>   <td>    0.1107</td> <td>    0.001</td> <td>  112.465</td> <td> 0.000</td> <td>    0.109</td> <td>    0.113</td>\n",
       "</tr>\n",
       "<tr>\n",
       "  <th>x12</th>   <td>   -0.0188</td> <td>    0.001</td> <td>  -13.232</td> <td> 0.000</td> <td>   -0.022</td> <td>   -0.016</td>\n",
       "</tr>\n",
       "<tr>\n",
       "  <th>x13</th>   <td>    0.0007</td> <td>    0.001</td> <td>    1.135</td> <td> 0.257</td> <td>   -0.000</td> <td>    0.002</td>\n",
       "</tr>\n",
       "<tr>\n",
       "  <th>x14</th>   <td>    0.0269</td> <td>    0.000</td> <td>  184.666</td> <td> 0.000</td> <td>    0.027</td> <td>    0.027</td>\n",
       "</tr>\n",
       "<tr>\n",
       "  <th>x15</th>   <td>   -0.0023</td> <td>    0.001</td> <td>   -3.515</td> <td> 0.000</td> <td>   -0.004</td> <td>   -0.001</td>\n",
       "</tr>\n",
       "<tr>\n",
       "  <th>x16</th>   <td>   -0.0117</td> <td>    0.001</td> <td>  -20.096</td> <td> 0.000</td> <td>   -0.013</td> <td>   -0.011</td>\n",
       "</tr>\n",
       "<tr>\n",
       "  <th>x17</th>   <td>    0.1052</td> <td>    0.008</td> <td>   13.187</td> <td> 0.000</td> <td>    0.090</td> <td>    0.121</td>\n",
       "</tr>\n",
       "<tr>\n",
       "  <th>x18</th>   <td>    4.4664</td> <td>    0.023</td> <td>  197.539</td> <td> 0.000</td> <td>    4.422</td> <td>    4.511</td>\n",
       "</tr>\n",
       "<tr>\n",
       "  <th>x19</th>   <td>    0.5054</td> <td>    0.036</td> <td>   13.986</td> <td> 0.000</td> <td>    0.435</td> <td>    0.576</td>\n",
       "</tr>\n",
       "<tr>\n",
       "  <th>x20</th>   <td>   -0.0794</td> <td>    0.001</td> <td>  -81.286</td> <td> 0.000</td> <td>   -0.081</td> <td>   -0.078</td>\n",
       "</tr>\n",
       "<tr>\n",
       "  <th>x21</th>   <td>    0.0727</td> <td>    0.001</td> <td>   99.604</td> <td> 0.000</td> <td>    0.071</td> <td>    0.074</td>\n",
       "</tr>\n",
       "<tr>\n",
       "  <th>x22</th>   <td>    0.0476</td> <td>    0.000</td> <td>  169.908</td> <td> 0.000</td> <td>    0.047</td> <td>    0.048</td>\n",
       "</tr>\n",
       "<tr>\n",
       "  <th>x23</th>   <td>    0.0276</td> <td>    0.014</td> <td>    2.000</td> <td> 0.045</td> <td>    0.001</td> <td>    0.055</td>\n",
       "</tr>\n",
       "<tr>\n",
       "  <th>x24</th>   <td>    0.0608</td> <td>    0.019</td> <td>    3.236</td> <td> 0.001</td> <td>    0.024</td> <td>    0.098</td>\n",
       "</tr>\n",
       "<tr>\n",
       "  <th>x25</th>   <td>   -0.5647</td> <td>    0.019</td> <td>  -29.660</td> <td> 0.000</td> <td>   -0.602</td> <td>   -0.527</td>\n",
       "</tr>\n",
       "<tr>\n",
       "  <th>x26</th>   <td>    0.2020</td> <td>    0.001</td> <td>  261.859</td> <td> 0.000</td> <td>    0.201</td> <td>    0.204</td>\n",
       "</tr>\n",
       "</table>\n",
       "<table class=\"simpletable\">\n",
       "<tr>\n",
       "  <th>Omnibus:</th>       <td>4862683.685</td> <th>  Durbin-Watson:     </th>   <td>   2.001</td>   \n",
       "</tr>\n",
       "<tr>\n",
       "  <th>Prob(Omnibus):</th>   <td> 0.000</td>    <th>  Jarque-Bera (JB):  </th> <td>220247018.450</td>\n",
       "</tr>\n",
       "<tr>\n",
       "  <th>Skew:</th>            <td> 4.047</td>    <th>  Prob(JB):          </th>   <td>    0.00</td>   \n",
       "</tr>\n",
       "<tr>\n",
       "  <th>Kurtosis:</th>        <td>32.691</td>    <th>  Cond. No.          </th>   <td>2.07e+06</td>   \n",
       "</tr>\n",
       "</table><br/><br/>Notes:<br/>[1] Standard Errors assume that the covariance matrix of the errors is correctly specified.<br/>[2] The condition number is large, 2.07e+06. This might indicate that there are<br/>strong multicollinearity or other numerical problems."
      ],
      "text/plain": [
       "<class 'statsmodels.iolib.summary.Summary'>\n",
       "\"\"\"\n",
       "                            OLS Regression Results                            \n",
       "==============================================================================\n",
       "Dep. Variable:                      y   R-squared:                       0.116\n",
       "Model:                            OLS   Adj. R-squared:                  0.116\n",
       "Method:                 Least Squares   F-statistic:                 2.817e+04\n",
       "Date:                Mon, 30 Nov 2020   Prob (F-statistic):               0.00\n",
       "Time:                        15:45:00   Log-Likelihood:            -2.5009e+07\n",
       "No. Observations:             5581259   AIC:                         5.002e+07\n",
       "Df Residuals:                 5581232   BIC:                         5.002e+07\n",
       "Df Model:                          26                                         \n",
       "Covariance Type:            nonrobust                                         \n",
       "==============================================================================\n",
       "                 coef    std err          t      P>|t|      [0.025      0.975]\n",
       "------------------------------------------------------------------------------\n",
       "const        606.2170      9.171     66.105      0.000     588.243     624.191\n",
       "x1            -0.2722      0.005    -59.352      0.000      -0.281      -0.263\n",
       "x2            -1.1674      0.035    -33.435      0.000      -1.236      -1.099\n",
       "x3             0.0123      0.001     17.290      0.000       0.011       0.014\n",
       "x4            -0.0491      0.002    -26.551      0.000      -0.053      -0.045\n",
       "x5            -0.0393      0.002    -22.405      0.000      -0.043      -0.036\n",
       "x6             0.2556      0.002    135.019      0.000       0.252       0.259\n",
       "x7            -1.3394      0.039    -34.506      0.000      -1.416      -1.263\n",
       "x8            -1.4993      0.039    -38.475      0.000      -1.576      -1.423\n",
       "x9             0.1107      0.065      1.690      0.091      -0.018       0.239\n",
       "x10            0.1195      0.067      1.785      0.074      -0.012       0.251\n",
       "x11            0.1107      0.001    112.465      0.000       0.109       0.113\n",
       "x12           -0.0188      0.001    -13.232      0.000      -0.022      -0.016\n",
       "x13            0.0007      0.001      1.135      0.257      -0.000       0.002\n",
       "x14            0.0269      0.000    184.666      0.000       0.027       0.027\n",
       "x15           -0.0023      0.001     -3.515      0.000      -0.004      -0.001\n",
       "x16           -0.0117      0.001    -20.096      0.000      -0.013      -0.011\n",
       "x17            0.1052      0.008     13.187      0.000       0.090       0.121\n",
       "x18            4.4664      0.023    197.539      0.000       4.422       4.511\n",
       "x19            0.5054      0.036     13.986      0.000       0.435       0.576\n",
       "x20           -0.0794      0.001    -81.286      0.000      -0.081      -0.078\n",
       "x21            0.0727      0.001     99.604      0.000       0.071       0.074\n",
       "x22            0.0476      0.000    169.908      0.000       0.047       0.048\n",
       "x23            0.0276      0.014      2.000      0.045       0.001       0.055\n",
       "x24            0.0608      0.019      3.236      0.001       0.024       0.098\n",
       "x25           -0.5647      0.019    -29.660      0.000      -0.602      -0.527\n",
       "x26            0.2020      0.001    261.859      0.000       0.201       0.204\n",
       "==============================================================================\n",
       "Omnibus:                  4862683.685   Durbin-Watson:                   2.001\n",
       "Prob(Omnibus):                  0.000   Jarque-Bera (JB):        220247018.450\n",
       "Skew:                           4.047   Prob(JB):                         0.00\n",
       "Kurtosis:                      32.691   Cond. No.                     2.07e+06\n",
       "==============================================================================\n",
       "\n",
       "Notes:\n",
       "[1] Standard Errors assume that the covariance matrix of the errors is correctly specified.\n",
       "[2] The condition number is large, 2.07e+06. This might indicate that there are\n",
       "strong multicollinearity or other numerical problems.\n",
       "\"\"\""
      ]
     },
     "execution_count": 9,
     "metadata": {},
     "output_type": "execute_result"
    }
   ],
   "source": [
    "import statsmodels.api as sm\n",
    "# statsmodel 라이브러리로 회귀 분석을 수행합니다.\n",
    "X_train = sm.add_constant(X_train)\n",
    "model = sm.OLS(y_train.values, X_train.values).fit()\n",
    "model.summary()"
   ]
  },
  {
   "cell_type": "code",
   "execution_count": 13,
   "metadata": {},
   "outputs": [
    {
     "data": {
      "text/plain": [
       "Text(0, 0.5, 'coef')"
      ]
     },
     "execution_count": 13,
     "metadata": {},
     "output_type": "execute_result"
    },
    {
     "data": {
      "image/png": "[encoded data removed]",
      "text/plain": [
       "<Figure size 864x432 with 1 Axes>"
      ]
     },
     "metadata": {
      "needs_background": "light"
     },
     "output_type": "display_data"
    }
   ],
   "source": [
    "# 회귀 계수를 리스트로 반환합니다.\n",
    "coefs = model.params.tolist()\n",
    "coefs_series = pd.Series(coefs)\n",
    "\n",
    "# 변수명을 리스트로 반환합니다.\n",
    "# x_labels = model.params.index.tolist()\n",
    "\n",
    "# 회귀 계수를 출력합니다.\n",
    "ax = coefs_series.plot(kind='bar', figsize=(12,6),grid=True, rot=45, fontsize=15 )\n",
    "ax.set_ylim(-10, 10)\n",
    "ax.set_title('feature_coef_graph')\n",
    "ax.set_xlabel('x_features')\n",
    "ax.set_ylabel('coef')\n",
    "# ax.set_xticklabels(x_labels)"
   ]
  },
  {
   "cell_type": "markdown",
   "metadata": {},
   "source": [
    "## REG target sampling "
   ]
  },
  {
   "cell_type": "code",
   "execution_count": 64,
   "metadata": {},
   "outputs": [
    {
     "name": "stdout",
     "output_type": "stream",
     "text": [
      "정상(target < 126 ) 93.46%\n",
      "당뇨(target >= 126 ) 6.54%\n",
      "target   count : 521858 (25.0)%\n",
      "target외 count : 1565263 (75.0)%\n"
     ]
    }
   ],
   "source": [
    "df = pd.read_csv('data/NHIS_total_model.csv')\n",
    "df['target'] = df['식전혈당(공복혈당)']\n",
    "df.drop('식전혈당(공복혈당)', axis=1, inplace=True)    \n",
    "# 연령대 코드 --> 연령 decoding 후 drop\n",
    "df['연령'] =df['연령대코드(5세단위)'].apply( lambda x: x*5 + 17 )\n",
    "df.drop('연령대코드(5세단위)', axis=1, inplace=True)\n",
    "\n",
    "# df.to_csv('./data/NHIS_model_reg_1.csv', sep=',', encoding='utf-8', index=False)\n",
    "\n",
    "df['target_dist'] = df['target'].map(lambda x:  1 if x >= 126 else 0)\n",
    "\n",
    "tmp_lst=df['target_dist'].value_counts().values\n",
    "print(f'정상(target < 126 ) {np.round((tmp_lst[0]/tmp_lst.sum())*100, 2)}%')\n",
    "print(f'당뇨(target >= 126 ) {np.round((tmp_lst[1]/tmp_lst.sum())*100, 2)}%')\n",
    "\n",
    "df_copy = df.copy()\n",
    "# filter\n",
    "target_count = df_copy[ df_copy['target_dist'] == 1 ].shape[0]\n",
    "not_target_count = df_copy[ df_copy['target_dist'] != 1 ].shape[0]\n",
    "# print(target_count)\n",
    "\n",
    "# frac 설정 # if (target_count/not_target_count)*2 ==> target 33.3%비율(전체 156만)\n",
    "frac=round( (target_count/not_target_count)*3, 3) \n",
    "df_target = df_copy[ df_copy['target_dist'] == 1 ]\n",
    "df_X =  df_copy[ df_copy['target_dist'] != 1 ].sample(frac=frac, random_state=1)\n",
    "\n",
    "# concat\n",
    "df = pd.concat ([df_target, df_X]).sort_values(by=['기준년도'])\n",
    "\n",
    "target_count = df[df['target_dist'] == 1].shape[0]\n",
    "target_ex_count = df[df['target_dist'] != 1].shape[0]\n",
    "print(f\"target   count : {target_count} ({ round( target_count/df.shape[0], 4)*100 })%\")\n",
    "print(f\"target외 count : {target_ex_count} ({ round( target_ex_count/df.shape[0], 4)*100 })%\")\n",
    "# shuffle\n",
    "df.drop('target_dist', axis=1,inplace=True)\n",
    "import sklearn\n",
    "df = sklearn.utils.shuffle(df)\n",
    "\n",
    "df.to_csv('./data/NHIS_model_reg_4_sampling_3_1.csv', sep=',', encoding='utf-8', index=False)"
   ]
  },
  {
   "cell_type": "code",
   "execution_count": null,
   "metadata": {},
   "outputs": [],
   "source": []
  }
 ],
 "metadata": {
  "kernelspec": {
   "display_name": "Python 3",
   "language": "python",
   "name": "python3"
  },
  "language_info": {
   "codemirror_mode": {
    "name": "ipython",
    "version": 3
   },
   "file_extension": ".py",
   "mimetype": "text/x-python",
   "name": "python",
   "nbconvert_exporter": "python",
   "pygments_lexer": "ipython3",
   "version": "3.7.8"
  }
 },
 "nbformat": 4,
 "nbformat_minor": 4
}
