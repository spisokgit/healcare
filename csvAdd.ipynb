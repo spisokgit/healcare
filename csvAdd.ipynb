{
 "cells": [
  {
   "cell_type": "code",
   "execution_count": 11,
   "metadata": {},
   "outputs": [],
   "source": [
    "import csv\n",
    "import glob\n",
    "import os"
   ]
  },
  {
   "cell_type": "code",
   "execution_count": 12,
   "metadata": {},
   "outputs": [
    {
     "name": "stdout",
     "output_type": "stream",
     "text": [
      "NHIS_OPEN_GJ_2009.CSV\n",
      "NHIS_OPEN_GJ_2008.CSV\n",
      "NHIS_OPEN_GJ_2016.csv\n",
      "NHIS_OPEN_GJ_2015.CSV\n",
      "NHIS_OPEN_GJ_2013.CSV\n",
      "NHIS_OPEN_GJ_2010.CSV\n",
      "NHIS_OPEN_GJ_2003.CSV\n",
      "NHIS_OPEN_GJ_2012.CSV\n",
      "NHIS_OPEN_GJ_2014.CSV\n",
      "NHIS_OPEN_GJ_2011.CSV\n",
      "NHIS_OPEN_GJ_2007.CSV\n",
      "NHIS_OPEN_GJ_2018.csv\n",
      "NHIS_OPEN_GJ_2004.CSV\n",
      "NHIS_OPEN_GJ_2005.CSV\n",
      "NHIS_OPEN_GJ_2017.csv\n",
      "NHIS_OPEN_GJ_2006.CSV\n",
      "NHIS_OPEN_GJ_2002.CSV\n"
     ]
    }
   ],
   "source": [
    "input_path = r'./data/' # 파일들을 불러올 디렉터리 경로\n",
    "output_path = r'./data/NHIS_total.csv' # 하나로 합칠 파일명\n",
    "\n",
    "first_file = True\n",
    "for input_file in glob.glob(os.path.join(input_path, 'NHIS_OPEN_GJ_*')): # csv파일들과 주소를 결합하여 파일을 불러온다\n",
    "    print(os.path.basename(input_file)) # 불러온 파일명을 print해서 확인할 수 있게 한다\n",
    "    with open(input_file, 'r', newline='') as csv_in_file: # 불러온 csv파일을 연다\n",
    "        with open(output_path, 'a', newline='') as csv_out_file: # 합칠 csv파일을 'a'로 해서 연다\n",
    "            filereader = csv.reader(csv_in_file) # csv.reader()로 읽은 내용을 filereader에 저장한다\n",
    "            filewriter = csv.writer(csv_out_file)\n",
    "            if first_file: # 첫번째 파일의 경우, header와 같이 복사되도록 한다\n",
    "                for row in filereader:\n",
    "                    filewriter.writerow(row)\n",
    "                first_file = False # 복사가 끝나면 첫번째 파일이 아니기 때문에 False로 명명한다\n",
    "            else:\n",
    "                header = next(filereader) # 첫번째 파일이 아닐경우, 머릿글을 header에 저장한다\n",
    "                for row in filereader:\n",
    "                    filewriter.writerow(row) # header를 제외하고 읽은 내용을 쓴다(이때 붙여진 내용은 이전 내용과 띄어쓰기 없이 붙여진다"
   ]
  },
  {
   "cell_type": "code",
   "execution_count": null,
   "metadata": {},
   "outputs": [],
   "source": []
  }
 ],
 "metadata": {
  "kernelspec": {
   "display_name": "Python 3",
   "language": "python",
   "name": "python3"
  },
  "language_info": {
   "codemirror_mode": {
    "name": "ipython",
    "version": 3
   },
   "file_extension": ".py",
   "mimetype": "text/x-python",
   "name": "python",
   "nbconvert_exporter": "python",
   "pygments_lexer": "ipython3",
   "version": "3.9.1"
  }
 },
 "nbformat": 4,
 "nbformat_minor": 2
}
