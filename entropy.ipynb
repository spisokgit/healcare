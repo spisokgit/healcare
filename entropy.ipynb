{
 "cells": [
  {
   "cell_type": "code",
   "execution_count": 5,
   "metadata": {},
   "outputs": [],
   "source": [
    "import matplotlib.pyplot as plt\n",
    "import numpy as np"
   ]
  },
  {
   "cell_type": "markdown",
   "metadata": {},
   "source": [
    "Y=0  또는  Y=1  인 두 가지 값을 가지는 확률변수의 확률분포가 다음과 같이 세 종류가 있다고 하자.\n",
    "\n",
    "확률분포  Y1  :  P(Y=0)=0.5 ,  P(Y=1)=0.5   \n",
    "확률분포  Y2  :  P(Y=0)=0.8 ,  P(Y=1)=0.2   \n",
    "확률분포  Y3  :  P(Y=0)=1.0 ,  P(Y=1)=0.0  "
   ]
  },
  {
   "cell_type": "code",
   "execution_count": 6,
   "metadata": {},
   "outputs": [
    {
     "data": {
      "image/png": "[encoded data removed]",
      "text/plain": [
       "<Figure size 648x216 with 3 Axes>"
      ]
     },
     "metadata": {
      "needs_background": "light"
     },
     "output_type": "display_data"
    }
   ],
   "source": [
    "plt.figure(figsize=(9, 3))\n",
    "\n",
    "plt.subplot(131)\n",
    "plt.bar([0, 1], [0.5, 0.5])\n",
    "plt.xticks([0, 1], [\"Y=0\", \"Y=1\"])\n",
    "plt.ylim(0, 1.1)\n",
    "plt.title(\"$Y_1$\")\n",
    "\n",
    "plt.subplot(132)\n",
    "plt.bar([0, 1], [0.8, 0.2])\n",
    "plt.xticks([0, 1], [\"Y=0\", \"Y=1\"])\n",
    "plt.ylim(0, 1.1)\n",
    "plt.title(\"$Y_2$\")\n",
    "\n",
    "plt.subplot(133)\n",
    "plt.bar([0, 1], [1.0, 0.0])\n",
    "plt.xticks([0, 1], [\"Y=0\", \"Y=1\"])\n",
    "plt.ylim(0, 1.1)\n",
    "plt.title(\"$Y_3$\")\n",
    "plt.tight_layout()\n",
    "plt.show()"
   ]
  },
  {
   "cell_type": "code",
   "execution_count": null,
   "metadata": {},
   "outputs": [],
   "source": [
    "# 엔트로피 # p(x) 확률\n",
    "# -p(x)log2p(x) -(1-p(x))log2(1-p(x))"
   ]
  },
  {
   "cell_type": "code",
   "execution_count": 7,
   "metadata": {},
   "outputs": [
    {
     "data": {
      "text/plain": [
       "1.0"
      ]
     },
     "execution_count": 7,
     "metadata": {},
     "output_type": "execute_result"
    }
   ],
   "source": [
    "-0.5 * np.log2(0.5) - 0.5 * np.log2(0.5)"
   ]
  },
  {
   "cell_type": "code",
   "execution_count": 8,
   "metadata": {},
   "outputs": [
    {
     "data": {
      "text/plain": [
       "0.7219280948873623"
      ]
     },
     "execution_count": 8,
     "metadata": {},
     "output_type": "execute_result"
    }
   ],
   "source": [
    "-0.8 * np.log2(0.8) - 0.2 * np.log2(0.2)"
   ]
  },
  {
   "cell_type": "code",
   "execution_count": 9,
   "metadata": {},
   "outputs": [
    {
     "data": {
      "text/plain": [
       "1.1546319456101628e-14"
      ]
     },
     "execution_count": 9,
     "metadata": {},
     "output_type": "execute_result"
    }
   ],
   "source": [
    "# 확률값이 0일 때\n",
    "eps = np.finfo(float).eps\n",
    "-1 * np.log2(1) - eps * np.log2(eps)"
   ]
  },
  {
   "cell_type": "markdown",
   "metadata": {},
   "source": [
    "연습 문제 10.1.1¶  \n",
    "베르누이분포에서 확률값  P(Y=1) 은 0부터 1까지의 값을 가질 수 있다.  \n",
    "각각의 값에 대해 엔트로피를 계산하여 가로축이  P(Y=1) 이고 세로축이  H[Y] 인 그래프를 그려라."
   ]
  },
  {
   "cell_type": "markdown",
   "metadata": {},
   "source": [
    "베르누이 실험  결과 2가지 p(P(S)) + q(P(F)) = 1\n",
    "베르누이 확률변수: 실험결과를 실수 0 또는 1  \n",
    "베르누이 분포 : 그 결과 성공 확률변수 X = 1, 실패하면 X = 0\n",
    " - 확률분포 f(1) = p, f(0)= 1 - p\n",
    "\n",
    "동전던지기\n",
    "        X {0, 1}\n",
    " 성공확률 P[x=1]\n",
    " 엔트로피 H[X] = -p(1)lnp(1) - p(0)lnp(0)\n",
    "\n",
    "이항분포  : 베르누이 시행\n",
    "  - 베르누이 시행의 반복 횟수:n\n",
    "  - 각 시행에서 성공할 확률 :p\n",
    "  - n번 시행중 성공 횟수; x   <=== 이항확률변수\n",
    "  ==> 그 분포 이항분포 X-Bin(n,p)\n",
    "  \n",
    "\n"
   ]
  },
  {
   "cell_type": "code",
   "execution_count": 26,
   "metadata": {},
   "outputs": [
    {
     "data": {
      "image/png": "[encoded data removed]",
      "text/plain": [
       "<Figure size 432x288 with 1 Axes>"
      ]
     },
     "metadata": {
      "needs_background": "light"
     },
     "output_type": "display_data"
    }
   ],
   "source": [
    "P0 = np.linspace(0.001, 1 - 0.001, 1000)\n",
    "P1 = 1 - P0\n",
    "H = - P0 * np.log2(P0) - P1 * np.log2(P1)\n",
    "\n",
    "G = (P0 * (1 - P0) + P1 * (1 - P1)) \n",
    "# 엔트로피와 높이를 맞춰주기 위해 스케일링 하는 경우도 있다. 여기서는 G 앞에 2를 곱해준다.\n",
    "\n",
    "plt.plot(P0, H, \"-\", label=\"엔트로피\")\n",
    "plt.plot(P0, G, \"--\", label=\"지니불순도\")\n",
    "plt.legend()\n",
    "plt.xlabel(\"P(0)\")\n",
    "plt.show()"
   ]
  },
  {
   "cell_type": "code",
   "execution_count": null,
   "metadata": {},
   "outputs": [],
   "source": []
  },
  {
   "cell_type": "code",
   "execution_count": null,
   "metadata": {},
   "outputs": [],
   "source": []
  },
  {
   "cell_type": "code",
   "execution_count": null,
   "metadata": {},
   "outputs": [],
   "source": []
  },
  {
   "cell_type": "code",
   "execution_count": 21,
   "metadata": {},
   "outputs": [],
   "source": [
    "import seaborn as sns"
   ]
  },
  {
   "cell_type": "code",
   "execution_count": 24,
   "metadata": {},
   "outputs": [],
   "source": [
    "# 윈도우에서 설정해 주면 되는 부분\n",
    "import matplotlib as mpl\n",
    "import matplotlib.font_manager as fm\n",
    "font_name = mpl.font_manager.FontProperties(fname='C:/Windows/Fonts/malgun.ttf').get_name() # 폴더구분자 python / 임\n",
    "mpl.rc('font', family=font_name) # ahronbd.ttf"
   ]
  },
  {
   "cell_type": "code",
   "execution_count": null,
   "metadata": {},
   "outputs": [],
   "source": [
    "- * np.log2(0.5) - 0.5 * np.log2(0.5)"
   ]
  },
  {
   "cell_type": "code",
   "execution_count": 25,
   "metadata": {},
   "outputs": [
    {
     "data": {
      "image/png": "[encoded data removed]",
      "text/plain": [
       "<Figure size 432x288 with 1 Axes>"
      ]
     },
     "metadata": {
      "needs_background": "light"
     },
     "output_type": "display_data"
    }
   ],
   "source": [
    "xx = [0, 1]\n",
    "plt.bar(xx, rv.pmf(xx))\n",
    "plt.xlim(-1, 2)\n",
    "plt.ylim(0, 1)\n",
    "plt.xticks([0, 1], [\"x=0\", \"x=1\"])\n",
    "plt.xlabel(\"표본값\")\n",
    "plt.ylabel(\"P(x)\")\n",
    "plt.title(\"베르누이 확률변수의 확률질량함수\")\n",
    "plt.show()"
   ]
  },
  {
   "cell_type": "code",
   "execution_count": null,
   "metadata": {},
   "outputs": [],
   "source": []
  }
 ],
 "metadata": {
  "kernelspec": {
   "display_name": "Python 3",
   "language": "python",
   "name": "python3"
  },
  "language_info": {
   "codemirror_mode": {
    "name": "ipython",
    "version": 3
   },
   "file_extension": ".py",
   "mimetype": "text/x-python",
   "name": "python",
   "nbconvert_exporter": "python",
   "pygments_lexer": "ipython3",
   "version": "3.8.3"
  }
 },
 "nbformat": 4,
 "nbformat_minor": 4
}
