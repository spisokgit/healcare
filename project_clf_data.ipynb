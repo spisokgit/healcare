{
 "cells": [
  {
   "cell_type": "code",
   "execution_count": 1,
   "metadata": {},
   "outputs": [],
   "source": [
    "import csv\n",
    "import pandas as pd\n",
    "import numpy as np\n",
    "import matplotlib.pyplot as plt\n",
    "import seaborn as sns\n",
    "import warnings\n",
    "warnings.filterwarnings(\"ignore\")\n",
    "warnings.filterwarnings(\"ignore\", category=RuntimeWarning)\n",
    "from IPython.display import HTML, display # jupyter 사진넣기\n",
    "import time                      # excution time 계산\n",
    "from datetime import datetime   # system time \n",
    "import json                     # json save\n",
    "# from imblearn.over_sampling import SMOTE\n",
    "from sklearn.tree import export_graphviz  # 결정트리 모형\n",
    "# import graphviz                         # 결정트리 모형\n",
    "from sklearn import tree                  # 결정트리 모형  # Classifier tree\n",
    "from sklearn.inspection import permutation_importance  # feature 중요도\n",
    "from sklearn.pipeline import Pipeline\n",
    "from sklearn.model_selection import train_test_split, GridSearchCV\n",
    "from sklearn.preprocessing import StandardScaler, Binarizer\n",
    "from sklearn.metrics import (accuracy_score, precision_score, recall_score, f1_score, roc_auc_score,\n",
    "                             confusion_matrix, precision_recall_curve, roc_curve)\n",
    "from sklearn.model_selection import learning_curve, ShuffleSplit\n",
    "\n",
    "from sklearn.linear_model import LogisticRegression, SGDClassifier\n",
    "from sklearn.svm import LinearSVC\n",
    "from sklearn.tree import DecisionTreeClassifier, plot_tree\n",
    "from sklearn.ensemble import (VotingClassifier, BaggingClassifier, RandomForestClassifier, AdaBoostClassifier,\n",
    "                                ExtraTreesClassifier, GradientBoostingClassifier)\n",
    "from sklearn.naive_bayes import GaussianNB\n",
    "from sklearn.neighbors import KNeighborsClassifier\n",
    "\n",
    "# import xgboost as xgb                # python wrapper\n",
    "from xgboost import XGBClassifier    # sklearn wrapper\n",
    "from lightgbm import LGBMClassifier  # sklearn wrapper\n",
    "\n",
    "import pickle                         # 모델 저장\n",
    "import matplotlib as mpl              # 한글깨짐\n",
    "import matplotlib.font_manager as fm  # 한글깨짐\n",
    "import matplotlib.font_manager        # 한글깨짐"
   ]
  },
  {
   "cell_type": "markdown",
   "metadata": {},
   "source": [
    "# project"
   ]
  },
  {
   "cell_type": "markdown",
   "metadata": {},
   "source": [
    "### 1단계 target 수(52만)만큼 train sample(52만) 합 약 104만건 + scaling "
   ]
  },
  {
   "cell_type": "code",
   "execution_count": 5,
   "metadata": {},
   "outputs": [],
   "source": [
    "df = pd.read_csv('data/NHIS_total_model.csv')\n",
    "# # df = df.iloc[:10000, :]\n",
    "# # print(df.info())\n",
    "# # df.head(3)"
   ]
  },
  {
   "cell_type": "code",
   "execution_count": 6,
   "metadata": {},
   "outputs": [
    {
     "name": "stdout",
     "output_type": "stream",
     "text": [
      "target   count : 521858 (6.54)%\n",
      "target외 count : 7453634 (93.46)%\n"
     ]
    }
   ],
   "source": [
    "df_copy = df.copy()\n",
    "#     df_copy['target'] = df_copy['식전혈당(공복혈당)'].apply(lambda x: 1 if x >= 126 else ( 2 if 100 <= x < 126 else 3))\n",
    "df_copy['target'] = df_copy['식전혈당(공복혈당)'].apply(lambda x: 1 if x >= 126 else 0 )\n",
    "df_copy.drop('식전혈당(공복혈당)', axis=1, inplace=True)    \n",
    "# 연령대 코드 --> 연령 decoding 후 drop\n",
    "df_copy['연령'] =df_copy['연령대코드(5세단위)'].apply( lambda x: x*5 + 17 )\n",
    "df_copy.drop('연령대코드(5세단위)', axis=1, inplace=True)\n",
    "print(f\"target   count : {df_copy[df_copy['target'] == 1].shape[0]} ({ round(df_copy[df_copy['target'] == 1].shape[0]/df_copy.shape[0], 4)*100 })%\")\n",
    "print(f\"target외 count : {df_copy[df_copy['target'] != 1].shape[0]} ({ round(df_copy[df_copy['target'] != 1].shape[0]/df_copy.shape[0], 4)*100 })%\")"
   ]
  },
  {
   "cell_type": "code",
   "execution_count": 7,
   "metadata": {},
   "outputs": [
    {
     "name": "stdout",
     "output_type": "stream",
     "text": [
      "target   count : 521858 (50.0)%\n",
      "target외 count : 521754 (50.0)%\n"
     ]
    }
   ],
   "source": [
    "# filter\n",
    "target_count = df_copy[ df_copy['target'] == 1 ].shape[0]\n",
    "not_target_count = df_copy[ df_copy['target'] != 1 ].shape[0]\n",
    "\n",
    "# frac 설정 # if (target_count/not_target_count)*2 ==> target 33.3%비율(전체 156만)\n",
    "frac=round( (target_count/not_target_count), 3) \n",
    "df_target = df_copy[ df_copy['target'] == 1 ]\n",
    "df_X =  df_copy[ df_copy['target'] != 1 ].sample(frac=frac, random_state=1)\n",
    "\n",
    "# concat\n",
    "df = pd.concat ([df_target, df_X]).sort_values(by=['기준년도'])\n",
    "\n",
    "target_count = df[df['target'] == 1].shape[0]\n",
    "target_ex_count = df[df['target'] != 1].shape[0]\n",
    "print(f\"target   count : {target_count} ({ round( target_count/df.shape[0], 4)*100 })%\")\n",
    "print(f\"target외 count : {target_ex_count} ({ round( target_ex_count/df.shape[0], 4)*100 })%\")\n",
    "# shuffle\n",
    "import sklearn\n",
    "df = sklearn.utils.shuffle(df)\n",
    "# df=df.iloc[np.random.permutation(df.index)].reset_index(drop=True)\n",
    "df.to_csv('./data/NHIS_model_1.csv', sep=',', encoding='utf-8', index=False)"
   ]
  },
  {
   "cell_type": "markdown",
   "metadata": {},
   "source": [
    "## 2단계 4:1 260만"
   ]
  },
  {
   "cell_type": "code",
   "execution_count": 9,
   "metadata": {},
   "outputs": [
    {
     "name": "stdout",
     "output_type": "stream",
     "text": [
      "target   count : 521858 (20.0)%\n",
      "target외 count : 2087018 (80.0)%\n"
     ]
    }
   ],
   "source": [
    "df = pd.read_csv('data/NHIS_total_model.csv')\n",
    "df_copy = df\n",
    "df_copy['target'] = df_copy['식전혈당(공복혈당)'].apply(lambda x: 1 if x >= 126 else 0 )\n",
    "df_copy.drop('식전혈당(공복혈당)', axis=1, inplace=True)    \n",
    "# 연령대 코드 --> 연령 decoding 후 drop\n",
    "df_copy['연령'] =df_copy['연령대코드(5세단위)'].apply( lambda x: x*5 + 17 )\n",
    "df_copy.drop('연령대코드(5세단위)', axis=1, inplace=True)\n",
    "\n",
    "# filter\n",
    "target_count = df_copy[ df_copy['target'] == 1 ].shape[0]\n",
    "not_target_count = df_copy[ df_copy['target'] != 1 ].shape[0]\n",
    "\n",
    "# frac 설정 # if (target_count/not_target_count)*4 ==> target 33.3%비율(전체 156만)\n",
    "frac=round( (target_count/not_target_count)*4, 3)  # 4:1 ==> total 260만\n",
    "df_target = df_copy[ df_copy['target'] == 1 ]\n",
    "df_X =  df_copy[ df_copy['target'] != 1 ].sample(frac=frac, random_state=1)\n",
    "\n",
    "# concat\n",
    "df = pd.concat ([df_target, df_X]).sort_values(by=['기준년도'])\n",
    "\n",
    "target_count = df[df['target'] == 1].shape[0]\n",
    "target_ex_count = df[df['target'] != 1].shape[0]\n",
    "print(f\"target   count : {target_count} ({ round( target_count/df.shape[0], 4)*100 })%\")\n",
    "print(f\"target외 count : {target_ex_count} ({ round( target_ex_count/df.shape[0], 4)*100 })%\")\n",
    "# shuffle\n",
    "import sklearn\n",
    "df = sklearn.utils.shuffle(df)\n",
    "# df=df.iloc[np.random.permutation(df.index)].reset_index(drop=True)\n",
    "df.to_csv('./data/NHIS_model_2.csv', sep=',', encoding='utf-8', index=False)"
   ]
  },
  {
   "cell_type": "markdown",
   "metadata": {},
   "source": [
    "##  3단계  3:1  208만"
   ]
  },
  {
   "cell_type": "code",
   "execution_count": 10,
   "metadata": {},
   "outputs": [
    {
     "name": "stdout",
     "output_type": "stream",
     "text": [
      "target   count : 521858 (25.0)%\n",
      "target외 count : 1565263 (75.0)%\n"
     ]
    }
   ],
   "source": [
    "df = pd.read_csv('data/NHIS_total_model.csv')\n",
    "df_copy = df\n",
    "df_copy['target'] = df_copy['식전혈당(공복혈당)'].apply(lambda x: 1 if x >= 126 else 0 )\n",
    "df_copy.drop('식전혈당(공복혈당)', axis=1, inplace=True)    \n",
    "# 연령대 코드 --> 연령 decoding 후 drop\n",
    "df_copy['연령'] =df_copy['연령대코드(5세단위)'].apply( lambda x: x*5 + 17 )\n",
    "df_copy.drop('연령대코드(5세단위)', axis=1, inplace=True)\n",
    "\n",
    "# filter\n",
    "target_count = df_copy[ df_copy['target'] == 1 ].shape[0]\n",
    "not_target_count = df_copy[ df_copy['target'] != 1 ].shape[0]\n",
    "\n",
    "# frac 설정 # if (target_count/not_target_count)*2 ==> target 33.3%비율(전체 156만)\n",
    "frac=round( (target_count/not_target_count)*3, 3)  # 3:1 ==> total 208만\n",
    "df_target = df_copy[ df_copy['target'] == 1 ]\n",
    "df_X =  df_copy[ df_copy['target'] != 1 ].sample(frac=frac, random_state=1)\n",
    "\n",
    "# concat\n",
    "df = pd.concat ([df_target, df_X]).sort_values(by=['기준년도'])\n",
    "\n",
    "target_count = df[df['target'] == 1].shape[0]\n",
    "target_ex_count = df[df['target'] != 1].shape[0]\n",
    "print(f\"target   count : {target_count} ({ round( target_count/df.shape[0], 4)*100 })%\")\n",
    "print(f\"target외 count : {target_ex_count} ({ round( target_ex_count/df.shape[0], 4)*100 })%\")\n",
    "# shuffle\n",
    "import sklearn\n",
    "df = sklearn.utils.shuffle(df)\n",
    "# df=df.iloc[np.random.permutation(df.index)].reset_index(drop=True)\n",
    "df.to_csv('./data/NHIS_model_3.csv', sep=',', encoding='utf-8', index=False)"
   ]
  },
  {
   "cell_type": "markdown",
   "metadata": {},
   "source": [
    "##  4단계  2:1  156만"
   ]
  },
  {
   "cell_type": "code",
   "execution_count": 11,
   "metadata": {},
   "outputs": [
    {
     "name": "stdout",
     "output_type": "stream",
     "text": [
      "target   count : 521858 (33.339999999999996)%\n",
      "target외 count : 1043509 (66.66)%\n"
     ]
    }
   ],
   "source": [
    "df = pd.read_csv('data/NHIS_total_model.csv')\n",
    "df_copy = df\n",
    "df_copy['target'] = df_copy['식전혈당(공복혈당)'].apply(lambda x: 1 if x >= 126 else 0 )\n",
    "df_copy.drop('식전혈당(공복혈당)', axis=1, inplace=True)    \n",
    "# 연령대 코드 --> 연령 decoding 후 drop\n",
    "df_copy['연령'] =df_copy['연령대코드(5세단위)'].apply( lambda x: x*5 + 17 )\n",
    "df_copy.drop('연령대코드(5세단위)', axis=1, inplace=True)\n",
    "\n",
    "# filter\n",
    "target_count = df_copy[ df_copy['target'] == 1 ].shape[0]\n",
    "not_target_count = df_copy[ df_copy['target'] != 1 ].shape[0]\n",
    "\n",
    "# frac 설정 # if (target_count/not_target_count)*2 ==> target 33.3%비율(전체 156만)\n",
    "frac=round( (target_count/not_target_count)*2, 3)  \n",
    "df_target = df_copy[ df_copy['target'] == 1 ]\n",
    "df_X =  df_copy[ df_copy['target'] != 1 ].sample(frac=frac, random_state=1)\n",
    "\n",
    "# concat\n",
    "df = pd.concat ([df_target, df_X]).sort_values(by=['기준년도'])\n",
    "\n",
    "target_count = df[df['target'] == 1].shape[0]\n",
    "target_ex_count = df[df['target'] != 1].shape[0]\n",
    "print(f\"target   count : {target_count} ({ round( target_count/df.shape[0], 4)*100 })%\")\n",
    "print(f\"target외 count : {target_ex_count} ({ round( target_ex_count/df.shape[0], 4)*100 })%\")\n",
    "# shuffle\n",
    "import sklearn\n",
    "df = sklearn.utils.shuffle(df)\n",
    "# df=df.iloc[np.random.permutation(df.index)].reset_index(drop=True)\n",
    "df.to_csv('./data/NHIS_model_4.csv', sep=',', encoding='utf-8', index=False)"
   ]
  },
  {
   "cell_type": "code",
   "execution_count": null,
   "metadata": {},
   "outputs": [],
   "source": [
    "## oneHotencoder"
   ]
  }
 ],
 "metadata": {
  "kernelspec": {
   "display_name": "Python 3",
   "language": "python",
   "name": "python3"
  },
  "language_info": {
   "codemirror_mode": {
    "name": "ipython",
    "version": 3
   },
   "file_extension": ".py",
   "mimetype": "text/x-python",
   "name": "python",
   "nbconvert_exporter": "python",
   "pygments_lexer": "ipython3",
   "version": "3.7.8"
  }
 },
 "nbformat": 4,
 "nbformat_minor": 4
}
